{
  "nbformat": 4,
  "nbformat_minor": 0,
  "metadata": {
    "colab": {
      "name": " Driver Behaviour.ipynb",
      "provenance": []
    },
    "kernelspec": {
      "name": "python3",
      "display_name": "Python 3"
    },
    "language_info": {
      "name": "python"
    }
  },
  "cells": [
    {
      "cell_type": "code",
      "metadata": {
        "id": "qbwvasHu1w3r",
        "colab": {
          "base_uri": "https://localhost:8080/"
        },
        "outputId": "212e401b-69d8-42e0-aca5-f7577bd54cbc"
      },
      "source": [
        "from google.colab import drive\n",
        "drive.mount('/content/drive/')"
      ],
      "execution_count": null,
      "outputs": [
        {
          "output_type": "stream",
          "name": "stdout",
          "text": [
            "Drive already mounted at /content/drive/; to attempt to forcibly remount, call drive.mount(\"/content/drive/\", force_remount=True).\n"
          ]
        }
      ]
    },
    {
      "cell_type": "code",
      "metadata": {
        "id": "shBQnpfG15hb"
      },
      "source": [
        "path = \"/content/drive/MyDrive/Archive/features_14.csv\""
      ],
      "execution_count": null,
      "outputs": []
    },
    {
      "cell_type": "code",
      "metadata": {
        "id": "tp6_lLdZ16h_"
      },
      "source": [
        "import pandas as pd\n",
        "import sklearn \n",
        "from sklearn.model_selection import train_test_split\n",
        "from sklearn.metrics import mean_squared_error, r2_score\n",
        "from sklearn.metrics import confusion_matrix\n",
        "from sklearn.metrics import precision_score\n",
        "from sklearn.metrics import accuracy_score\n",
        "from sklearn import linear_model\n",
        "import numpy as np\n",
        "import matplotlib.pyplot as plt"
      ],
      "execution_count": null,
      "outputs": []
    },
    {
      "cell_type": "code",
      "metadata": {
        "id": "DJWiRwyR7TwJ"
      },
      "source": [
        "var = pd.read_csv(path)"
      ],
      "execution_count": null,
      "outputs": []
    },
    {
      "cell_type": "code",
      "metadata": {
        "colab": {
          "base_uri": "https://localhost:8080/",
          "height": 320
        },
        "id": "fuCoBmzr5NHr",
        "outputId": "f6434028-8ced-4cb7-e33e-8dd58b424b38"
      },
      "source": [
        "var.describe()"
      ],
      "execution_count": null,
      "outputs": [
        {
          "output_type": "execute_result",
          "data": {
            "text/html": [
              "<div>\n",
              "<style scoped>\n",
              "    .dataframe tbody tr th:only-of-type {\n",
              "        vertical-align: middle;\n",
              "    }\n",
              "\n",
              "    .dataframe tbody tr th {\n",
              "        vertical-align: top;\n",
              "    }\n",
              "\n",
              "    .dataframe thead th {\n",
              "        text-align: right;\n",
              "    }\n",
              "</style>\n",
              "<table border=\"1\" class=\"dataframe\">\n",
              "  <thead>\n",
              "    <tr style=\"text-align: right;\">\n",
              "      <th></th>\n",
              "      <th>Target</th>\n",
              "      <th>AccMeanX</th>\n",
              "      <th>AccMeanY</th>\n",
              "      <th>AccMeanZ</th>\n",
              "      <th>AccCovX</th>\n",
              "      <th>AccCovY</th>\n",
              "      <th>AccCovZ</th>\n",
              "      <th>AccSkewX</th>\n",
              "      <th>AccSkewY</th>\n",
              "      <th>AccSkewZ</th>\n",
              "      <th>AccKurtX</th>\n",
              "      <th>AccKurtY</th>\n",
              "      <th>AccKurtZ</th>\n",
              "      <th>AccSumX</th>\n",
              "      <th>AccSumY</th>\n",
              "      <th>AccSumZ</th>\n",
              "      <th>AccMinX</th>\n",
              "      <th>AccMinY</th>\n",
              "      <th>AccMinZ</th>\n",
              "      <th>AccMaxX</th>\n",
              "      <th>AccMaxY</th>\n",
              "      <th>AccMaxZ</th>\n",
              "      <th>AccVarX</th>\n",
              "      <th>AccVarY</th>\n",
              "      <th>AccVarZ</th>\n",
              "      <th>AccMedianX</th>\n",
              "      <th>AccMedianY</th>\n",
              "      <th>AccMedianZ</th>\n",
              "      <th>AccStdX</th>\n",
              "      <th>AccStdY</th>\n",
              "      <th>AccStdZ</th>\n",
              "      <th>GyroMeanX</th>\n",
              "      <th>GyroMeanY</th>\n",
              "      <th>GyroMeanZ</th>\n",
              "      <th>GyroCovX</th>\n",
              "      <th>GyroCovY</th>\n",
              "      <th>GyroCovZ</th>\n",
              "      <th>GyroSkewX</th>\n",
              "      <th>GyroSkewY</th>\n",
              "      <th>GyroSkewZ</th>\n",
              "      <th>GyroSumX</th>\n",
              "      <th>GyroSumY</th>\n",
              "      <th>GyroSumZ</th>\n",
              "      <th>GyroKurtX</th>\n",
              "      <th>GyroKurtY</th>\n",
              "      <th>GyroKurtZ</th>\n",
              "      <th>GyroMinX</th>\n",
              "      <th>GyroMinY</th>\n",
              "      <th>GyroMinZ</th>\n",
              "      <th>GyroMaxX</th>\n",
              "      <th>GyroMaxY</th>\n",
              "      <th>GyroMaxZ</th>\n",
              "      <th>GyroVarX</th>\n",
              "      <th>GyroVarY</th>\n",
              "      <th>GyroVarZ</th>\n",
              "      <th>GyroMedianX</th>\n",
              "      <th>GyroMedianY</th>\n",
              "      <th>GyroMedianZ</th>\n",
              "      <th>GyroStdX</th>\n",
              "      <th>GyroStdY</th>\n",
              "      <th>GyroStdZ</th>\n",
              "    </tr>\n",
              "  </thead>\n",
              "  <tbody>\n",
              "    <tr>\n",
              "      <th>count</th>\n",
              "      <td>1102.000000</td>\n",
              "      <td>1102.000000</td>\n",
              "      <td>1102.000000</td>\n",
              "      <td>1102.000000</td>\n",
              "      <td>1102.000000</td>\n",
              "      <td>1102.000000</td>\n",
              "      <td>1102.000000</td>\n",
              "      <td>1102.000000</td>\n",
              "      <td>1102.000000</td>\n",
              "      <td>1102.000000</td>\n",
              "      <td>1102.000000</td>\n",
              "      <td>1102.000000</td>\n",
              "      <td>1102.000000</td>\n",
              "      <td>1102.000000</td>\n",
              "      <td>1102.000000</td>\n",
              "      <td>1102.000000</td>\n",
              "      <td>1102.000000</td>\n",
              "      <td>1102.000000</td>\n",
              "      <td>1102.000000</td>\n",
              "      <td>1102.000000</td>\n",
              "      <td>1102.000000</td>\n",
              "      <td>1102.000000</td>\n",
              "      <td>1102.000000</td>\n",
              "      <td>1102.000000</td>\n",
              "      <td>1102.000000</td>\n",
              "      <td>1102.000000</td>\n",
              "      <td>1102.000000</td>\n",
              "      <td>1102.000000</td>\n",
              "      <td>1102.000000</td>\n",
              "      <td>1102.000000</td>\n",
              "      <td>1102.000000</td>\n",
              "      <td>1102.000000</td>\n",
              "      <td>1102.000000</td>\n",
              "      <td>1102.000000</td>\n",
              "      <td>1102.000000</td>\n",
              "      <td>1102.000000</td>\n",
              "      <td>1102.000000</td>\n",
              "      <td>1102.000000</td>\n",
              "      <td>1102.000000</td>\n",
              "      <td>1102.000000</td>\n",
              "      <td>1102.000000</td>\n",
              "      <td>1102.000000</td>\n",
              "      <td>1102.000000</td>\n",
              "      <td>1102.000000</td>\n",
              "      <td>1102.000000</td>\n",
              "      <td>1102.000000</td>\n",
              "      <td>1102.000000</td>\n",
              "      <td>1102.000000</td>\n",
              "      <td>1102.000000</td>\n",
              "      <td>1102.000000</td>\n",
              "      <td>1102.000000</td>\n",
              "      <td>1102.000000</td>\n",
              "      <td>1102.000000</td>\n",
              "      <td>1102.000000</td>\n",
              "      <td>1102.000000</td>\n",
              "      <td>1102.000000</td>\n",
              "      <td>1102.000000</td>\n",
              "      <td>1102.000000</td>\n",
              "      <td>1102.000000</td>\n",
              "      <td>1102.000000</td>\n",
              "      <td>1102.000000</td>\n",
              "    </tr>\n",
              "    <tr>\n",
              "      <th>mean</th>\n",
              "      <td>2.490018</td>\n",
              "      <td>0.250681</td>\n",
              "      <td>-0.094582</td>\n",
              "      <td>-0.983306</td>\n",
              "      <td>0.029196</td>\n",
              "      <td>0.030323</td>\n",
              "      <td>0.009583</td>\n",
              "      <td>-0.112822</td>\n",
              "      <td>-0.099898</td>\n",
              "      <td>-0.186448</td>\n",
              "      <td>-0.425800</td>\n",
              "      <td>0.211539</td>\n",
              "      <td>0.914204</td>\n",
              "      <td>3.466799</td>\n",
              "      <td>-1.304658</td>\n",
              "      <td>-13.571818</td>\n",
              "      <td>-0.002411</td>\n",
              "      <td>-0.341816</td>\n",
              "      <td>-1.161273</td>\n",
              "      <td>0.481071</td>\n",
              "      <td>0.155418</td>\n",
              "      <td>-0.825060</td>\n",
              "      <td>0.029196</td>\n",
              "      <td>0.030323</td>\n",
              "      <td>0.009583</td>\n",
              "      <td>0.253398</td>\n",
              "      <td>-0.096628</td>\n",
              "      <td>-0.983282</td>\n",
              "      <td>0.158783</td>\n",
              "      <td>0.159459</td>\n",
              "      <td>0.092317</td>\n",
              "      <td>-0.835434</td>\n",
              "      <td>4.128180</td>\n",
              "      <td>1.066751</td>\n",
              "      <td>11.155935</td>\n",
              "      <td>10.381491</td>\n",
              "      <td>114.428756</td>\n",
              "      <td>-0.089833</td>\n",
              "      <td>-0.002665</td>\n",
              "      <td>0.160261</td>\n",
              "      <td>-11.670246</td>\n",
              "      <td>56.940130</td>\n",
              "      <td>14.858328</td>\n",
              "      <td>0.968505</td>\n",
              "      <td>0.809991</td>\n",
              "      <td>1.321276</td>\n",
              "      <td>-6.796484</td>\n",
              "      <td>-1.448061</td>\n",
              "      <td>-11.100899</td>\n",
              "      <td>4.552417</td>\n",
              "      <td>9.578954</td>\n",
              "      <td>13.362845</td>\n",
              "      <td>11.155935</td>\n",
              "      <td>10.381491</td>\n",
              "      <td>114.428756</td>\n",
              "      <td>-0.735789</td>\n",
              "      <td>4.211808</td>\n",
              "      <td>1.109295</td>\n",
              "      <td>3.142812</td>\n",
              "      <td>3.034641</td>\n",
              "      <td>8.206899</td>\n",
              "    </tr>\n",
              "    <tr>\n",
              "      <th>std</th>\n",
              "      <td>1.050665</td>\n",
              "      <td>0.080183</td>\n",
              "      <td>0.091875</td>\n",
              "      <td>0.026849</td>\n",
              "      <td>0.022935</td>\n",
              "      <td>0.022036</td>\n",
              "      <td>0.006485</td>\n",
              "      <td>0.698375</td>\n",
              "      <td>1.056449</td>\n",
              "      <td>0.892163</td>\n",
              "      <td>1.732597</td>\n",
              "      <td>1.802550</td>\n",
              "      <td>1.908540</td>\n",
              "      <td>1.145200</td>\n",
              "      <td>1.279057</td>\n",
              "      <td>1.215344</td>\n",
              "      <td>0.113428</td>\n",
              "      <td>0.176599</td>\n",
              "      <td>0.088215</td>\n",
              "      <td>0.126783</td>\n",
              "      <td>0.218276</td>\n",
              "      <td>0.078657</td>\n",
              "      <td>0.022935</td>\n",
              "      <td>0.022036</td>\n",
              "      <td>0.006485</td>\n",
              "      <td>0.093657</td>\n",
              "      <td>0.056115</td>\n",
              "      <td>0.026540</td>\n",
              "      <td>0.063149</td>\n",
              "      <td>0.069999</td>\n",
              "      <td>0.032577</td>\n",
              "      <td>1.112982</td>\n",
              "      <td>1.012694</td>\n",
              "      <td>6.389914</td>\n",
              "      <td>7.374181</td>\n",
              "      <td>7.085781</td>\n",
              "      <td>115.341708</td>\n",
              "      <td>0.937874</td>\n",
              "      <td>0.826034</td>\n",
              "      <td>1.394261</td>\n",
              "      <td>15.563416</td>\n",
              "      <td>14.872203</td>\n",
              "      <td>89.317927</td>\n",
              "      <td>2.075692</td>\n",
              "      <td>1.835697</td>\n",
              "      <td>2.734906</td>\n",
              "      <td>3.428237</td>\n",
              "      <td>3.210436</td>\n",
              "      <td>16.934999</td>\n",
              "      <td>2.552701</td>\n",
              "      <td>2.218312</td>\n",
              "      <td>16.113840</td>\n",
              "      <td>7.374181</td>\n",
              "      <td>7.085781</td>\n",
              "      <td>115.341708</td>\n",
              "      <td>0.844474</td>\n",
              "      <td>0.844673</td>\n",
              "      <td>1.514056</td>\n",
              "      <td>1.131295</td>\n",
              "      <td>1.083287</td>\n",
              "      <td>6.864279</td>\n",
              "    </tr>\n",
              "    <tr>\n",
              "      <th>min</th>\n",
              "      <td>1.000000</td>\n",
              "      <td>0.019642</td>\n",
              "      <td>-0.309535</td>\n",
              "      <td>-1.053659</td>\n",
              "      <td>0.000042</td>\n",
              "      <td>0.000070</td>\n",
              "      <td>0.000118</td>\n",
              "      <td>-2.694572</td>\n",
              "      <td>-3.429108</td>\n",
              "      <td>-3.073868</td>\n",
              "      <td>-5.683040</td>\n",
              "      <td>-4.485169</td>\n",
              "      <td>-4.258125</td>\n",
              "      <td>0.081299</td>\n",
              "      <td>-4.333496</td>\n",
              "      <td>-14.751221</td>\n",
              "      <td>-0.252686</td>\n",
              "      <td>-0.793457</td>\n",
              "      <td>-1.367920</td>\n",
              "      <td>0.056396</td>\n",
              "      <td>-0.111328</td>\n",
              "      <td>-0.971924</td>\n",
              "      <td>0.000042</td>\n",
              "      <td>0.000070</td>\n",
              "      <td>0.000118</td>\n",
              "      <td>0.018311</td>\n",
              "      <td>-0.241211</td>\n",
              "      <td>-1.054932</td>\n",
              "      <td>0.006483</td>\n",
              "      <td>0.008363</td>\n",
              "      <td>0.010881</td>\n",
              "      <td>-4.534896</td>\n",
              "      <td>-0.320611</td>\n",
              "      <td>-13.828244</td>\n",
              "      <td>0.053027</td>\n",
              "      <td>0.030970</td>\n",
              "      <td>0.026300</td>\n",
              "      <td>-3.198339</td>\n",
              "      <td>-3.518831</td>\n",
              "      <td>-3.198597</td>\n",
              "      <td>-63.488550</td>\n",
              "      <td>-4.488550</td>\n",
              "      <td>-193.595420</td>\n",
              "      <td>-4.710496</td>\n",
              "      <td>-4.035868</td>\n",
              "      <td>-3.006058</td>\n",
              "      <td>-14.946565</td>\n",
              "      <td>-10.351145</td>\n",
              "      <td>-50.259542</td>\n",
              "      <td>-0.496183</td>\n",
              "      <td>4.297710</td>\n",
              "      <td>0.832061</td>\n",
              "      <td>0.053027</td>\n",
              "      <td>0.030970</td>\n",
              "      <td>0.026300</td>\n",
              "      <td>-4.061069</td>\n",
              "      <td>-0.736641</td>\n",
              "      <td>-15.675573</td>\n",
              "      <td>0.230276</td>\n",
              "      <td>0.175983</td>\n",
              "      <td>0.162173</td>\n",
              "    </tr>\n",
              "    <tr>\n",
              "      <th>25%</th>\n",
              "      <td>2.000000</td>\n",
              "      <td>0.196429</td>\n",
              "      <td>-0.166037</td>\n",
              "      <td>-1.003257</td>\n",
              "      <td>0.012777</td>\n",
              "      <td>0.007605</td>\n",
              "      <td>0.004619</td>\n",
              "      <td>-0.558205</td>\n",
              "      <td>-0.866926</td>\n",
              "      <td>-0.781039</td>\n",
              "      <td>-1.455117</td>\n",
              "      <td>-1.082307</td>\n",
              "      <td>-0.401395</td>\n",
              "      <td>2.703003</td>\n",
              "      <td>-2.295715</td>\n",
              "      <td>-14.039856</td>\n",
              "      <td>-0.079590</td>\n",
              "      <td>-0.442139</td>\n",
              "      <td>-1.227783</td>\n",
              "      <td>0.395020</td>\n",
              "      <td>-0.016968</td>\n",
              "      <td>-0.878662</td>\n",
              "      <td>0.012777</td>\n",
              "      <td>0.007605</td>\n",
              "      <td>0.004619</td>\n",
              "      <td>0.198730</td>\n",
              "      <td>-0.130920</td>\n",
              "      <td>-1.001312</td>\n",
              "      <td>0.113036</td>\n",
              "      <td>0.087208</td>\n",
              "      <td>0.067967</td>\n",
              "      <td>-1.496592</td>\n",
              "      <td>3.444111</td>\n",
              "      <td>-3.907852</td>\n",
              "      <td>5.376291</td>\n",
              "      <td>5.239952</td>\n",
              "      <td>1.246986</td>\n",
              "      <td>-0.700510</td>\n",
              "      <td>-0.511914</td>\n",
              "      <td>-1.128288</td>\n",
              "      <td>-20.952290</td>\n",
              "      <td>47.181298</td>\n",
              "      <td>-54.709924</td>\n",
              "      <td>-0.339967</td>\n",
              "      <td>-0.335845</td>\n",
              "      <td>-0.361769</td>\n",
              "      <td>-9.099237</td>\n",
              "      <td>-3.091603</td>\n",
              "      <td>-26.022901</td>\n",
              "      <td>2.618321</td>\n",
              "      <td>7.763359</td>\n",
              "      <td>2.389313</td>\n",
              "      <td>5.376291</td>\n",
              "      <td>5.239952</td>\n",
              "      <td>1.246986</td>\n",
              "      <td>-1.084924</td>\n",
              "      <td>3.779580</td>\n",
              "      <td>0.759542</td>\n",
              "      <td>2.318683</td>\n",
              "      <td>2.289094</td>\n",
              "      <td>1.116685</td>\n",
              "    </tr>\n",
              "    <tr>\n",
              "      <th>50%</th>\n",
              "      <td>3.000000</td>\n",
              "      <td>0.254752</td>\n",
              "      <td>-0.114406</td>\n",
              "      <td>-0.984262</td>\n",
              "      <td>0.022769</td>\n",
              "      <td>0.031239</td>\n",
              "      <td>0.008100</td>\n",
              "      <td>-0.135493</td>\n",
              "      <td>-0.123392</td>\n",
              "      <td>-0.124783</td>\n",
              "      <td>-0.885571</td>\n",
              "      <td>-0.107470</td>\n",
              "      <td>0.475894</td>\n",
              "      <td>3.541870</td>\n",
              "      <td>-1.564575</td>\n",
              "      <td>-13.762329</td>\n",
              "      <td>-0.013428</td>\n",
              "      <td>-0.291016</td>\n",
              "      <td>-1.147217</td>\n",
              "      <td>0.444824</td>\n",
              "      <td>0.080566</td>\n",
              "      <td>-0.834717</td>\n",
              "      <td>0.022769</td>\n",
              "      <td>0.031239</td>\n",
              "      <td>0.008100</td>\n",
              "      <td>0.250732</td>\n",
              "      <td>-0.107178</td>\n",
              "      <td>-0.987488</td>\n",
              "      <td>0.150893</td>\n",
              "      <td>0.176746</td>\n",
              "      <td>0.090003</td>\n",
              "      <td>-0.645038</td>\n",
              "      <td>4.282443</td>\n",
              "      <td>0.968103</td>\n",
              "      <td>9.686863</td>\n",
              "      <td>8.728437</td>\n",
              "      <td>127.534036</td>\n",
              "      <td>-0.141645</td>\n",
              "      <td>-0.005426</td>\n",
              "      <td>0.349594</td>\n",
              "      <td>-8.965649</td>\n",
              "      <td>59.515267</td>\n",
              "      <td>13.377863</td>\n",
              "      <td>0.321011</td>\n",
              "      <td>0.331109</td>\n",
              "      <td>0.653944</td>\n",
              "      <td>-5.870229</td>\n",
              "      <td>-1.175573</td>\n",
              "      <td>-1.870229</td>\n",
              "      <td>4.305344</td>\n",
              "      <td>9.244275</td>\n",
              "      <td>4.625954</td>\n",
              "      <td>9.686863</td>\n",
              "      <td>8.728437</td>\n",
              "      <td>127.534036</td>\n",
              "      <td>-0.660305</td>\n",
              "      <td>4.297710</td>\n",
              "      <td>1.019084</td>\n",
              "      <td>3.112373</td>\n",
              "      <td>2.954393</td>\n",
              "      <td>11.293095</td>\n",
              "    </tr>\n",
              "    <tr>\n",
              "      <th>75%</th>\n",
              "      <td>3.000000</td>\n",
              "      <td>0.309457</td>\n",
              "      <td>-0.007616</td>\n",
              "      <td>-0.964587</td>\n",
              "      <td>0.034529</td>\n",
              "      <td>0.045968</td>\n",
              "      <td>0.012561</td>\n",
              "      <td>0.205514</td>\n",
              "      <td>0.774952</td>\n",
              "      <td>0.350263</td>\n",
              "      <td>0.125803</td>\n",
              "      <td>1.037142</td>\n",
              "      <td>1.558934</td>\n",
              "      <td>4.303894</td>\n",
              "      <td>-0.106628</td>\n",
              "      <td>-13.467407</td>\n",
              "      <td>0.085938</td>\n",
              "      <td>-0.219238</td>\n",
              "      <td>-1.092529</td>\n",
              "      <td>0.557129</td>\n",
              "      <td>0.371948</td>\n",
              "      <td>-0.799805</td>\n",
              "      <td>0.034529</td>\n",
              "      <td>0.045968</td>\n",
              "      <td>0.012561</td>\n",
              "      <td>0.309814</td>\n",
              "      <td>-0.073242</td>\n",
              "      <td>-0.964355</td>\n",
              "      <td>0.185819</td>\n",
              "      <td>0.214400</td>\n",
              "      <td>0.112078</td>\n",
              "      <td>-0.065840</td>\n",
              "      <td>4.829545</td>\n",
              "      <td>7.041848</td>\n",
              "      <td>14.986955</td>\n",
              "      <td>13.725827</td>\n",
              "      <td>217.342978</td>\n",
              "      <td>0.442296</td>\n",
              "      <td>0.521014</td>\n",
              "      <td>1.268026</td>\n",
              "      <td>-0.889313</td>\n",
              "      <td>67.396947</td>\n",
              "      <td>98.585878</td>\n",
              "      <td>1.632683</td>\n",
              "      <td>1.364962</td>\n",
              "      <td>1.878320</td>\n",
              "      <td>-4.099237</td>\n",
              "      <td>0.671756</td>\n",
              "      <td>-0.404580</td>\n",
              "      <td>5.954198</td>\n",
              "      <td>11.091603</td>\n",
              "      <td>32.601145</td>\n",
              "      <td>14.986955</td>\n",
              "      <td>13.725827</td>\n",
              "      <td>217.342978</td>\n",
              "      <td>-0.347328</td>\n",
              "      <td>4.747137</td>\n",
              "      <td>1.427481</td>\n",
              "      <td>3.871299</td>\n",
              "      <td>3.704838</td>\n",
              "      <td>14.742556</td>\n",
              "    </tr>\n",
              "    <tr>\n",
              "      <th>max</th>\n",
              "      <td>4.000000</td>\n",
              "      <td>0.445452</td>\n",
              "      <td>0.114851</td>\n",
              "      <td>-0.900652</td>\n",
              "      <td>0.109354</td>\n",
              "      <td>0.094144</td>\n",
              "      <td>0.030886</td>\n",
              "      <td>3.321394</td>\n",
              "      <td>2.504595</td>\n",
              "      <td>3.356136</td>\n",
              "      <td>11.463292</td>\n",
              "      <td>12.391338</td>\n",
              "      <td>11.797136</td>\n",
              "      <td>6.236328</td>\n",
              "      <td>1.607910</td>\n",
              "      <td>-3.831055</td>\n",
              "      <td>0.265625</td>\n",
              "      <td>0.003906</td>\n",
              "      <td>-1.004150</td>\n",
              "      <td>0.747803</td>\n",
              "      <td>0.768555</td>\n",
              "      <td>-0.456787</td>\n",
              "      <td>0.109354</td>\n",
              "      <td>0.094144</td>\n",
              "      <td>0.030886</td>\n",
              "      <td>0.546265</td>\n",
              "      <td>0.090210</td>\n",
              "      <td>-0.901978</td>\n",
              "      <td>0.330686</td>\n",
              "      <td>0.306830</td>\n",
              "      <td>0.175744</td>\n",
              "      <td>2.449836</td>\n",
              "      <td>6.330971</td>\n",
              "      <td>14.406761</td>\n",
              "      <td>39.778734</td>\n",
              "      <td>35.373877</td>\n",
              "      <td>379.616823</td>\n",
              "      <td>3.006775</td>\n",
              "      <td>3.587251</td>\n",
              "      <td>3.692692</td>\n",
              "      <td>34.297710</td>\n",
              "      <td>88.633588</td>\n",
              "      <td>201.694656</td>\n",
              "      <td>11.173272</td>\n",
              "      <td>13.217322</td>\n",
              "      <td>13.737288</td>\n",
              "      <td>-0.923664</td>\n",
              "      <td>4.519084</td>\n",
              "      <td>1.122137</td>\n",
              "      <td>12.778626</td>\n",
              "      <td>16.793893</td>\n",
              "      <td>45.442748</td>\n",
              "      <td>39.778734</td>\n",
              "      <td>35.373877</td>\n",
              "      <td>379.616823</td>\n",
              "      <td>3.358779</td>\n",
              "      <td>6.500000</td>\n",
              "      <td>9.721374</td>\n",
              "      <td>6.307038</td>\n",
              "      <td>5.947594</td>\n",
              "      <td>19.483758</td>\n",
              "    </tr>\n",
              "  </tbody>\n",
              "</table>\n",
              "</div>"
            ],
            "text/plain": [
              "            Target     AccMeanX  ...     GyroStdY     GyroStdZ\n",
              "count  1102.000000  1102.000000  ...  1102.000000  1102.000000\n",
              "mean      2.490018     0.250681  ...     3.034641     8.206899\n",
              "std       1.050665     0.080183  ...     1.083287     6.864279\n",
              "min       1.000000     0.019642  ...     0.175983     0.162173\n",
              "25%       2.000000     0.196429  ...     2.289094     1.116685\n",
              "50%       3.000000     0.254752  ...     2.954393    11.293095\n",
              "75%       3.000000     0.309457  ...     3.704838    14.742556\n",
              "max       4.000000     0.445452  ...     5.947594    19.483758\n",
              "\n",
              "[8 rows x 61 columns]"
            ]
          },
          "metadata": {},
          "execution_count": 5
        }
      ]
    },
    {
      "cell_type": "code",
      "metadata": {
        "colab": {
          "base_uri": "https://localhost:8080/"
        },
        "id": "42Hzx6gX5VtG",
        "outputId": "bb235b01-a914-4a76-bade-d321d4b9f47f"
      },
      "source": [
        "var_shuffled=sklearn.utils.shuffle(var)\n",
        "print(var_shuffled)"
      ],
      "execution_count": null,
      "outputs": [
        {
          "output_type": "stream",
          "name": "stdout",
          "text": [
            "     Target  AccMeanX  AccMeanY  ...  GyroStdX  GyroStdY   GyroStdZ\n",
            "354       2  0.156285 -0.174177  ...  4.665687  3.965988  16.189424\n",
            "270       2  0.182164 -0.179862  ...  2.881889  2.615647  15.026786\n",
            "960       4  0.326468 -0.093715  ...  1.345431  1.714331   0.531020\n",
            "515       2  0.216902 -0.171875  ...  3.849335  2.978427  12.772497\n",
            "595       3  0.280988 -0.002337  ...  3.256487  2.618208  14.348484\n",
            "..      ...       ...       ...  ...       ...       ...        ...\n",
            "683       3  0.214024 -0.002895  ...  6.215719  2.380131  14.913058\n",
            "621       3  0.259766  0.001325  ...  3.620270  2.010655  13.667850\n",
            "41        1  0.364589 -0.156494  ...  3.764611  2.729261   1.171050\n",
            "826       3  0.318237 -0.182513  ...  2.238754  2.702671   1.544475\n",
            "511       2  0.225446 -0.168387  ...  3.623599  2.869816  12.602976\n",
            "\n",
            "[1102 rows x 61 columns]\n"
          ]
        }
      ]
    },
    {
      "cell_type": "code",
      "metadata": {
        "id": "2vKszA5B5Vjc"
      },
      "source": [
        "Y = var.Target"
      ],
      "execution_count": null,
      "outputs": []
    },
    {
      "cell_type": "code",
      "metadata": {
        "colab": {
          "base_uri": "https://localhost:8080/"
        },
        "id": "m_JM1HhK5Zmd",
        "outputId": "2e558613-2c99-4aaa-aac6-c876e0f1db43"
      },
      "source": [
        "Y"
      ],
      "execution_count": null,
      "outputs": [
        {
          "output_type": "execute_result",
          "data": {
            "text/plain": [
              "0       1\n",
              "1       1\n",
              "2       1\n",
              "3       1\n",
              "4       1\n",
              "       ..\n",
              "1097    4\n",
              "1098    4\n",
              "1099    4\n",
              "1100    4\n",
              "1101    4\n",
              "Name: Target, Length: 1102, dtype: int64"
            ]
          },
          "metadata": {},
          "execution_count": 8
        }
      ]
    },
    {
      "cell_type": "code",
      "metadata": {
        "id": "WmQLLM_T5ZhK"
      },
      "source": [
        "X = var.drop(['Target'],axis=1)"
      ],
      "execution_count": null,
      "outputs": []
    },
    {
      "cell_type": "code",
      "metadata": {
        "colab": {
          "base_uri": "https://localhost:8080/",
          "height": 444
        },
        "id": "rRLjtbl_5ZZW",
        "outputId": "fcadce3e-39ad-4a87-a3b9-f88ac0dbe30a"
      },
      "source": [
        "X"
      ],
      "execution_count": null,
      "outputs": [
        {
          "output_type": "execute_result",
          "data": {
            "text/html": [
              "<div>\n",
              "<style scoped>\n",
              "    .dataframe tbody tr th:only-of-type {\n",
              "        vertical-align: middle;\n",
              "    }\n",
              "\n",
              "    .dataframe tbody tr th {\n",
              "        vertical-align: top;\n",
              "    }\n",
              "\n",
              "    .dataframe thead th {\n",
              "        text-align: right;\n",
              "    }\n",
              "</style>\n",
              "<table border=\"1\" class=\"dataframe\">\n",
              "  <thead>\n",
              "    <tr style=\"text-align: right;\">\n",
              "      <th></th>\n",
              "      <th>AccMeanX</th>\n",
              "      <th>AccMeanY</th>\n",
              "      <th>AccMeanZ</th>\n",
              "      <th>AccCovX</th>\n",
              "      <th>AccCovY</th>\n",
              "      <th>AccCovZ</th>\n",
              "      <th>AccSkewX</th>\n",
              "      <th>AccSkewY</th>\n",
              "      <th>AccSkewZ</th>\n",
              "      <th>AccKurtX</th>\n",
              "      <th>AccKurtY</th>\n",
              "      <th>AccKurtZ</th>\n",
              "      <th>AccSumX</th>\n",
              "      <th>AccSumY</th>\n",
              "      <th>AccSumZ</th>\n",
              "      <th>AccMinX</th>\n",
              "      <th>AccMinY</th>\n",
              "      <th>AccMinZ</th>\n",
              "      <th>AccMaxX</th>\n",
              "      <th>AccMaxY</th>\n",
              "      <th>AccMaxZ</th>\n",
              "      <th>AccVarX</th>\n",
              "      <th>AccVarY</th>\n",
              "      <th>AccVarZ</th>\n",
              "      <th>AccMedianX</th>\n",
              "      <th>AccMedianY</th>\n",
              "      <th>AccMedianZ</th>\n",
              "      <th>AccStdX</th>\n",
              "      <th>AccStdY</th>\n",
              "      <th>AccStdZ</th>\n",
              "      <th>GyroMeanX</th>\n",
              "      <th>GyroMeanY</th>\n",
              "      <th>GyroMeanZ</th>\n",
              "      <th>GyroCovX</th>\n",
              "      <th>GyroCovY</th>\n",
              "      <th>GyroCovZ</th>\n",
              "      <th>GyroSkewX</th>\n",
              "      <th>GyroSkewY</th>\n",
              "      <th>GyroSkewZ</th>\n",
              "      <th>GyroSumX</th>\n",
              "      <th>GyroSumY</th>\n",
              "      <th>GyroSumZ</th>\n",
              "      <th>GyroKurtX</th>\n",
              "      <th>GyroKurtY</th>\n",
              "      <th>GyroKurtZ</th>\n",
              "      <th>GyroMinX</th>\n",
              "      <th>GyroMinY</th>\n",
              "      <th>GyroMinZ</th>\n",
              "      <th>GyroMaxX</th>\n",
              "      <th>GyroMaxY</th>\n",
              "      <th>GyroMaxZ</th>\n",
              "      <th>GyroVarX</th>\n",
              "      <th>GyroVarY</th>\n",
              "      <th>GyroVarZ</th>\n",
              "      <th>GyroMedianX</th>\n",
              "      <th>GyroMedianY</th>\n",
              "      <th>GyroMedianZ</th>\n",
              "      <th>GyroStdX</th>\n",
              "      <th>GyroStdY</th>\n",
              "      <th>GyroStdZ</th>\n",
              "    </tr>\n",
              "  </thead>\n",
              "  <tbody>\n",
              "    <tr>\n",
              "      <th>0</th>\n",
              "      <td>0.285339</td>\n",
              "      <td>-0.138611</td>\n",
              "      <td>-0.957764</td>\n",
              "      <td>0.022150</td>\n",
              "      <td>0.003975</td>\n",
              "      <td>0.001926</td>\n",
              "      <td>0.867594</td>\n",
              "      <td>-1.305868</td>\n",
              "      <td>-0.507254</td>\n",
              "      <td>-1.164806</td>\n",
              "      <td>1.239840</td>\n",
              "      <td>-0.761065</td>\n",
              "      <td>1.141357</td>\n",
              "      <td>-0.554443</td>\n",
              "      <td>-3.831055</td>\n",
              "      <td>0.162598</td>\n",
              "      <td>-0.226807</td>\n",
              "      <td>-1.013184</td>\n",
              "      <td>0.480225</td>\n",
              "      <td>-0.086670</td>\n",
              "      <td>-0.911621</td>\n",
              "      <td>0.022150</td>\n",
              "      <td>0.003975</td>\n",
              "      <td>0.001926</td>\n",
              "      <td>0.249268</td>\n",
              "      <td>-0.120483</td>\n",
              "      <td>-0.953125</td>\n",
              "      <td>0.148827</td>\n",
              "      <td>0.063049</td>\n",
              "      <td>0.043889</td>\n",
              "      <td>-0.177481</td>\n",
              "      <td>4.190840</td>\n",
              "      <td>0.498092</td>\n",
              "      <td>0.761120</td>\n",
              "      <td>0.184372</td>\n",
              "      <td>0.262859</td>\n",
              "      <td>0.225352</td>\n",
              "      <td>-0.338028</td>\n",
              "      <td>-1.727183</td>\n",
              "      <td>-0.709924</td>\n",
              "      <td>16.763359</td>\n",
              "      <td>1.992366</td>\n",
              "      <td>-4.710496</td>\n",
              "      <td>-4.035868</td>\n",
              "      <td>2.914796</td>\n",
              "      <td>-0.923664</td>\n",
              "      <td>3.694656</td>\n",
              "      <td>-0.251908</td>\n",
              "      <td>0.786260</td>\n",
              "      <td>4.564885</td>\n",
              "      <td>0.832061</td>\n",
              "      <td>0.761120</td>\n",
              "      <td>0.184372</td>\n",
              "      <td>0.262859</td>\n",
              "      <td>-0.286260</td>\n",
              "      <td>4.251908</td>\n",
              "      <td>0.706107</td>\n",
              "      <td>0.872422</td>\n",
              "      <td>0.429385</td>\n",
              "      <td>0.512697</td>\n",
              "    </tr>\n",
              "    <tr>\n",
              "      <th>1</th>\n",
              "      <td>0.313477</td>\n",
              "      <td>-0.161670</td>\n",
              "      <td>-0.956250</td>\n",
              "      <td>0.020571</td>\n",
              "      <td>0.005640</td>\n",
              "      <td>0.001456</td>\n",
              "      <td>0.002474</td>\n",
              "      <td>-0.395088</td>\n",
              "      <td>-0.677572</td>\n",
              "      <td>-2.649441</td>\n",
              "      <td>-2.649803</td>\n",
              "      <td>0.636762</td>\n",
              "      <td>1.567383</td>\n",
              "      <td>-0.808350</td>\n",
              "      <td>-4.781250</td>\n",
              "      <td>0.162598</td>\n",
              "      <td>-0.253906</td>\n",
              "      <td>-1.013184</td>\n",
              "      <td>0.480225</td>\n",
              "      <td>-0.086670</td>\n",
              "      <td>-0.911621</td>\n",
              "      <td>0.020571</td>\n",
              "      <td>0.005640</td>\n",
              "      <td>0.001456</td>\n",
              "      <td>0.322754</td>\n",
              "      <td>-0.140381</td>\n",
              "      <td>-0.950195</td>\n",
              "      <td>0.143425</td>\n",
              "      <td>0.075100</td>\n",
              "      <td>0.038159</td>\n",
              "      <td>0.528244</td>\n",
              "      <td>3.891603</td>\n",
              "      <td>0.377099</td>\n",
              "      <td>3.061080</td>\n",
              "      <td>0.585991</td>\n",
              "      <td>0.270340</td>\n",
              "      <td>1.282080</td>\n",
              "      <td>-1.069372</td>\n",
              "      <td>-0.501530</td>\n",
              "      <td>2.641221</td>\n",
              "      <td>19.458015</td>\n",
              "      <td>1.885496</td>\n",
              "      <td>1.633018</td>\n",
              "      <td>0.846742</td>\n",
              "      <td>-2.932893</td>\n",
              "      <td>-0.923664</td>\n",
              "      <td>2.694656</td>\n",
              "      <td>-0.251908</td>\n",
              "      <td>3.351145</td>\n",
              "      <td>4.564885</td>\n",
              "      <td>0.832061</td>\n",
              "      <td>3.061080</td>\n",
              "      <td>0.585991</td>\n",
              "      <td>0.270340</td>\n",
              "      <td>0.335878</td>\n",
              "      <td>3.969466</td>\n",
              "      <td>0.587786</td>\n",
              "      <td>1.749594</td>\n",
              "      <td>0.765501</td>\n",
              "      <td>0.519942</td>\n",
              "    </tr>\n",
              "    <tr>\n",
              "      <th>2</th>\n",
              "      <td>0.325195</td>\n",
              "      <td>-0.158325</td>\n",
              "      <td>-0.950155</td>\n",
              "      <td>0.017281</td>\n",
              "      <td>0.004579</td>\n",
              "      <td>0.001388</td>\n",
              "      <td>-0.354212</td>\n",
              "      <td>-0.603657</td>\n",
              "      <td>-0.984635</td>\n",
              "      <td>-1.819232</td>\n",
              "      <td>-1.472251</td>\n",
              "      <td>0.663006</td>\n",
              "      <td>1.951172</td>\n",
              "      <td>-0.949951</td>\n",
              "      <td>-5.700928</td>\n",
              "      <td>0.162598</td>\n",
              "      <td>-0.253906</td>\n",
              "      <td>-1.013184</td>\n",
              "      <td>0.480225</td>\n",
              "      <td>-0.086670</td>\n",
              "      <td>-0.911621</td>\n",
              "      <td>0.017281</td>\n",
              "      <td>0.004579</td>\n",
              "      <td>0.001388</td>\n",
              "      <td>0.353271</td>\n",
              "      <td>-0.140991</td>\n",
              "      <td>-0.943481</td>\n",
              "      <td>0.131455</td>\n",
              "      <td>0.067669</td>\n",
              "      <td>0.037253</td>\n",
              "      <td>0.189567</td>\n",
              "      <td>3.773537</td>\n",
              "      <td>0.038168</td>\n",
              "      <td>3.137076</td>\n",
              "      <td>0.552431</td>\n",
              "      <td>0.905518</td>\n",
              "      <td>1.309765</td>\n",
              "      <td>-0.378864</td>\n",
              "      <td>-1.302740</td>\n",
              "      <td>1.137405</td>\n",
              "      <td>22.641221</td>\n",
              "      <td>0.229008</td>\n",
              "      <td>1.663170</td>\n",
              "      <td>-1.192246</td>\n",
              "      <td>1.540639</td>\n",
              "      <td>-1.503817</td>\n",
              "      <td>2.694656</td>\n",
              "      <td>-1.656489</td>\n",
              "      <td>3.351145</td>\n",
              "      <td>4.564885</td>\n",
              "      <td>0.832061</td>\n",
              "      <td>3.137076</td>\n",
              "      <td>0.552431</td>\n",
              "      <td>0.905518</td>\n",
              "      <td>-0.286260</td>\n",
              "      <td>3.832061</td>\n",
              "      <td>0.240458</td>\n",
              "      <td>1.771179</td>\n",
              "      <td>0.743257</td>\n",
              "      <td>0.951587</td>\n",
              "    </tr>\n",
              "    <tr>\n",
              "      <th>3</th>\n",
              "      <td>0.336565</td>\n",
              "      <td>-0.172468</td>\n",
              "      <td>-0.937640</td>\n",
              "      <td>0.015305</td>\n",
              "      <td>0.005216</td>\n",
              "      <td>0.002253</td>\n",
              "      <td>-0.655653</td>\n",
              "      <td>-0.152454</td>\n",
              "      <td>-0.040530</td>\n",
              "      <td>-1.214712</td>\n",
              "      <td>-2.185485</td>\n",
              "      <td>0.666209</td>\n",
              "      <td>2.355957</td>\n",
              "      <td>-1.207275</td>\n",
              "      <td>-6.563477</td>\n",
              "      <td>0.162598</td>\n",
              "      <td>-0.257324</td>\n",
              "      <td>-1.013184</td>\n",
              "      <td>0.480225</td>\n",
              "      <td>-0.086670</td>\n",
              "      <td>-0.862549</td>\n",
              "      <td>0.015305</td>\n",
              "      <td>0.005216</td>\n",
              "      <td>0.002253</td>\n",
              "      <td>0.383789</td>\n",
              "      <td>-0.141602</td>\n",
              "      <td>-0.936768</td>\n",
              "      <td>0.123715</td>\n",
              "      <td>0.072222</td>\n",
              "      <td>0.047465</td>\n",
              "      <td>0.356598</td>\n",
              "      <td>4.480916</td>\n",
              "      <td>-0.102508</td>\n",
              "      <td>2.809524</td>\n",
              "      <td>3.963056</td>\n",
              "      <td>0.893127</td>\n",
              "      <td>0.861002</td>\n",
              "      <td>2.009707</td>\n",
              "      <td>-0.667798</td>\n",
              "      <td>2.496183</td>\n",
              "      <td>31.366412</td>\n",
              "      <td>-0.717557</td>\n",
              "      <td>0.434190</td>\n",
              "      <td>4.642007</td>\n",
              "      <td>-0.680104</td>\n",
              "      <td>-1.503817</td>\n",
              "      <td>2.694656</td>\n",
              "      <td>-1.656489</td>\n",
              "      <td>3.351145</td>\n",
              "      <td>8.725191</td>\n",
              "      <td>0.832061</td>\n",
              "      <td>2.809524</td>\n",
              "      <td>3.963056</td>\n",
              "      <td>0.893127</td>\n",
              "      <td>0.335878</td>\n",
              "      <td>3.969466</td>\n",
              "      <td>-0.106870</td>\n",
              "      <td>1.676163</td>\n",
              "      <td>1.990743</td>\n",
              "      <td>0.945054</td>\n",
              "    </tr>\n",
              "    <tr>\n",
              "      <th>4</th>\n",
              "      <td>0.337860</td>\n",
              "      <td>-0.164185</td>\n",
              "      <td>-0.941681</td>\n",
              "      <td>0.013132</td>\n",
              "      <td>0.005020</td>\n",
              "      <td>0.002062</td>\n",
              "      <td>-0.718488</td>\n",
              "      <td>-0.446061</td>\n",
              "      <td>0.250539</td>\n",
              "      <td>-0.666622</td>\n",
              "      <td>-1.909540</td>\n",
              "      <td>0.556116</td>\n",
              "      <td>2.702881</td>\n",
              "      <td>-1.313477</td>\n",
              "      <td>-7.533447</td>\n",
              "      <td>0.162598</td>\n",
              "      <td>-0.257324</td>\n",
              "      <td>-1.013184</td>\n",
              "      <td>0.480225</td>\n",
              "      <td>-0.086670</td>\n",
              "      <td>-0.862549</td>\n",
              "      <td>0.013132</td>\n",
              "      <td>0.005020</td>\n",
              "      <td>0.002062</td>\n",
              "      <td>0.365356</td>\n",
              "      <td>-0.140991</td>\n",
              "      <td>-0.943481</td>\n",
              "      <td>0.114596</td>\n",
              "      <td>0.070850</td>\n",
              "      <td>0.045406</td>\n",
              "      <td>0.176527</td>\n",
              "      <td>4.434160</td>\n",
              "      <td>-0.167939</td>\n",
              "      <td>2.667567</td>\n",
              "      <td>3.414394</td>\n",
              "      <td>0.799787</td>\n",
              "      <td>1.072055</td>\n",
              "      <td>2.151158</td>\n",
              "      <td>-0.388248</td>\n",
              "      <td>1.412214</td>\n",
              "      <td>35.473282</td>\n",
              "      <td>-1.343511</td>\n",
              "      <td>0.737750</td>\n",
              "      <td>5.422661</td>\n",
              "      <td>-0.817133</td>\n",
              "      <td>-1.503817</td>\n",
              "      <td>2.694656</td>\n",
              "      <td>-1.656489</td>\n",
              "      <td>3.351145</td>\n",
              "      <td>8.725191</td>\n",
              "      <td>0.832061</td>\n",
              "      <td>2.667567</td>\n",
              "      <td>3.414394</td>\n",
              "      <td>0.799787</td>\n",
              "      <td>-0.286260</td>\n",
              "      <td>4.038168</td>\n",
              "      <td>-0.179389</td>\n",
              "      <td>1.633269</td>\n",
              "      <td>1.847808</td>\n",
              "      <td>0.894308</td>\n",
              "    </tr>\n",
              "    <tr>\n",
              "      <th>...</th>\n",
              "      <td>...</td>\n",
              "      <td>...</td>\n",
              "      <td>...</td>\n",
              "      <td>...</td>\n",
              "      <td>...</td>\n",
              "      <td>...</td>\n",
              "      <td>...</td>\n",
              "      <td>...</td>\n",
              "      <td>...</td>\n",
              "      <td>...</td>\n",
              "      <td>...</td>\n",
              "      <td>...</td>\n",
              "      <td>...</td>\n",
              "      <td>...</td>\n",
              "      <td>...</td>\n",
              "      <td>...</td>\n",
              "      <td>...</td>\n",
              "      <td>...</td>\n",
              "      <td>...</td>\n",
              "      <td>...</td>\n",
              "      <td>...</td>\n",
              "      <td>...</td>\n",
              "      <td>...</td>\n",
              "      <td>...</td>\n",
              "      <td>...</td>\n",
              "      <td>...</td>\n",
              "      <td>...</td>\n",
              "      <td>...</td>\n",
              "      <td>...</td>\n",
              "      <td>...</td>\n",
              "      <td>...</td>\n",
              "      <td>...</td>\n",
              "      <td>...</td>\n",
              "      <td>...</td>\n",
              "      <td>...</td>\n",
              "      <td>...</td>\n",
              "      <td>...</td>\n",
              "      <td>...</td>\n",
              "      <td>...</td>\n",
              "      <td>...</td>\n",
              "      <td>...</td>\n",
              "      <td>...</td>\n",
              "      <td>...</td>\n",
              "      <td>...</td>\n",
              "      <td>...</td>\n",
              "      <td>...</td>\n",
              "      <td>...</td>\n",
              "      <td>...</td>\n",
              "      <td>...</td>\n",
              "      <td>...</td>\n",
              "      <td>...</td>\n",
              "      <td>...</td>\n",
              "      <td>...</td>\n",
              "      <td>...</td>\n",
              "      <td>...</td>\n",
              "      <td>...</td>\n",
              "      <td>...</td>\n",
              "      <td>...</td>\n",
              "      <td>...</td>\n",
              "      <td>...</td>\n",
              "    </tr>\n",
              "    <tr>\n",
              "      <th>1097</th>\n",
              "      <td>0.273228</td>\n",
              "      <td>-0.094552</td>\n",
              "      <td>-0.983939</td>\n",
              "      <td>0.055210</td>\n",
              "      <td>0.034427</td>\n",
              "      <td>0.002588</td>\n",
              "      <td>0.458098</td>\n",
              "      <td>-0.614773</td>\n",
              "      <td>0.529063</td>\n",
              "      <td>-1.655437</td>\n",
              "      <td>-1.078165</td>\n",
              "      <td>0.931743</td>\n",
              "      <td>3.825195</td>\n",
              "      <td>-1.323730</td>\n",
              "      <td>-13.775146</td>\n",
              "      <td>-0.007568</td>\n",
              "      <td>-0.431152</td>\n",
              "      <td>-1.074463</td>\n",
              "      <td>0.616943</td>\n",
              "      <td>0.144775</td>\n",
              "      <td>-0.873535</td>\n",
              "      <td>0.055210</td>\n",
              "      <td>0.034427</td>\n",
              "      <td>0.002588</td>\n",
              "      <td>0.151733</td>\n",
              "      <td>-0.020508</td>\n",
              "      <td>-0.986816</td>\n",
              "      <td>0.234968</td>\n",
              "      <td>0.185546</td>\n",
              "      <td>0.050875</td>\n",
              "      <td>-0.129226</td>\n",
              "      <td>4.352236</td>\n",
              "      <td>1.782443</td>\n",
              "      <td>2.129663</td>\n",
              "      <td>1.720142</td>\n",
              "      <td>4.873553</td>\n",
              "      <td>1.032790</td>\n",
              "      <td>-0.353603</td>\n",
              "      <td>2.981735</td>\n",
              "      <td>-1.809160</td>\n",
              "      <td>60.931298</td>\n",
              "      <td>24.954198</td>\n",
              "      <td>1.180110</td>\n",
              "      <td>-0.312441</td>\n",
              "      <td>9.473514</td>\n",
              "      <td>-1.961832</td>\n",
              "      <td>2.030534</td>\n",
              "      <td>0.137405</td>\n",
              "      <td>3.396947</td>\n",
              "      <td>6.648855</td>\n",
              "      <td>8.893130</td>\n",
              "      <td>2.129663</td>\n",
              "      <td>1.720142</td>\n",
              "      <td>4.873553</td>\n",
              "      <td>-0.500000</td>\n",
              "      <td>4.526718</td>\n",
              "      <td>1.083969</td>\n",
              "      <td>1.459337</td>\n",
              "      <td>1.311542</td>\n",
              "      <td>2.207612</td>\n",
              "    </tr>\n",
              "    <tr>\n",
              "      <th>1098</th>\n",
              "      <td>0.264683</td>\n",
              "      <td>-0.092791</td>\n",
              "      <td>-0.976266</td>\n",
              "      <td>0.050594</td>\n",
              "      <td>0.033875</td>\n",
              "      <td>0.001917</td>\n",
              "      <td>0.479824</td>\n",
              "      <td>-0.640988</td>\n",
              "      <td>1.008758</td>\n",
              "      <td>-1.515821</td>\n",
              "      <td>-0.986868</td>\n",
              "      <td>1.370188</td>\n",
              "      <td>3.705566</td>\n",
              "      <td>-1.299072</td>\n",
              "      <td>-13.667725</td>\n",
              "      <td>-0.007568</td>\n",
              "      <td>-0.431152</td>\n",
              "      <td>-1.043945</td>\n",
              "      <td>0.616943</td>\n",
              "      <td>0.144775</td>\n",
              "      <td>-0.873535</td>\n",
              "      <td>0.050594</td>\n",
              "      <td>0.033875</td>\n",
              "      <td>0.001917</td>\n",
              "      <td>0.151733</td>\n",
              "      <td>-0.020508</td>\n",
              "      <td>-0.982666</td>\n",
              "      <td>0.224930</td>\n",
              "      <td>0.184051</td>\n",
              "      <td>0.043778</td>\n",
              "      <td>-0.221919</td>\n",
              "      <td>4.262814</td>\n",
              "      <td>1.605234</td>\n",
              "      <td>2.051938</td>\n",
              "      <td>1.389759</td>\n",
              "      <td>4.557117</td>\n",
              "      <td>1.288185</td>\n",
              "      <td>-0.821955</td>\n",
              "      <td>3.516031</td>\n",
              "      <td>-3.106870</td>\n",
              "      <td>59.679389</td>\n",
              "      <td>22.473282</td>\n",
              "      <td>1.954504</td>\n",
              "      <td>-0.517692</td>\n",
              "      <td>12.822557</td>\n",
              "      <td>-1.961832</td>\n",
              "      <td>2.030534</td>\n",
              "      <td>0.137405</td>\n",
              "      <td>3.396947</td>\n",
              "      <td>5.572519</td>\n",
              "      <td>8.893130</td>\n",
              "      <td>2.051938</td>\n",
              "      <td>1.389759</td>\n",
              "      <td>4.557117</td>\n",
              "      <td>-0.500000</td>\n",
              "      <td>4.526718</td>\n",
              "      <td>1.083969</td>\n",
              "      <td>1.432459</td>\n",
              "      <td>1.178880</td>\n",
              "      <td>2.134740</td>\n",
              "    </tr>\n",
              "    <tr>\n",
              "      <th>1099</th>\n",
              "      <td>0.257098</td>\n",
              "      <td>-0.091030</td>\n",
              "      <td>-0.976039</td>\n",
              "      <td>0.047140</td>\n",
              "      <td>0.033445</td>\n",
              "      <td>0.001903</td>\n",
              "      <td>0.532820</td>\n",
              "      <td>-0.673323</td>\n",
              "      <td>1.009590</td>\n",
              "      <td>-1.295757</td>\n",
              "      <td>-0.894073</td>\n",
              "      <td>1.407331</td>\n",
              "      <td>3.599365</td>\n",
              "      <td>-1.274414</td>\n",
              "      <td>-13.664551</td>\n",
              "      <td>-0.007568</td>\n",
              "      <td>-0.431152</td>\n",
              "      <td>-1.043945</td>\n",
              "      <td>0.616943</td>\n",
              "      <td>0.144775</td>\n",
              "      <td>-0.873535</td>\n",
              "      <td>0.047140</td>\n",
              "      <td>0.033445</td>\n",
              "      <td>0.001903</td>\n",
              "      <td>0.151733</td>\n",
              "      <td>-0.020508</td>\n",
              "      <td>-0.982666</td>\n",
              "      <td>0.217117</td>\n",
              "      <td>0.182879</td>\n",
              "      <td>0.043621</td>\n",
              "      <td>-0.200654</td>\n",
              "      <td>4.248637</td>\n",
              "      <td>1.585605</td>\n",
              "      <td>2.006199</td>\n",
              "      <td>1.378221</td>\n",
              "      <td>4.568735</td>\n",
              "      <td>1.307680</td>\n",
              "      <td>-0.794679</td>\n",
              "      <td>3.534109</td>\n",
              "      <td>-2.809160</td>\n",
              "      <td>59.480916</td>\n",
              "      <td>22.198473</td>\n",
              "      <td>2.076821</td>\n",
              "      <td>-0.518348</td>\n",
              "      <td>12.914320</td>\n",
              "      <td>-1.961832</td>\n",
              "      <td>2.030534</td>\n",
              "      <td>0.137405</td>\n",
              "      <td>3.396947</td>\n",
              "      <td>5.572519</td>\n",
              "      <td>8.893130</td>\n",
              "      <td>2.006199</td>\n",
              "      <td>1.378221</td>\n",
              "      <td>4.568735</td>\n",
              "      <td>-0.500000</td>\n",
              "      <td>4.522901</td>\n",
              "      <td>1.083969</td>\n",
              "      <td>1.416403</td>\n",
              "      <td>1.173977</td>\n",
              "      <td>2.137460</td>\n",
              "    </tr>\n",
              "    <tr>\n",
              "      <th>1100</th>\n",
              "      <td>0.257132</td>\n",
              "      <td>-0.091047</td>\n",
              "      <td>-0.978446</td>\n",
              "      <td>0.047143</td>\n",
              "      <td>0.033445</td>\n",
              "      <td>0.002054</td>\n",
              "      <td>0.532226</td>\n",
              "      <td>-0.672990</td>\n",
              "      <td>0.987714</td>\n",
              "      <td>-1.296626</td>\n",
              "      <td>-0.894416</td>\n",
              "      <td>1.066259</td>\n",
              "      <td>3.599854</td>\n",
              "      <td>-1.274658</td>\n",
              "      <td>-13.698242</td>\n",
              "      <td>-0.007568</td>\n",
              "      <td>-0.431152</td>\n",
              "      <td>-1.043945</td>\n",
              "      <td>0.616943</td>\n",
              "      <td>0.144775</td>\n",
              "      <td>-0.873535</td>\n",
              "      <td>0.047143</td>\n",
              "      <td>0.033445</td>\n",
              "      <td>0.002054</td>\n",
              "      <td>0.151733</td>\n",
              "      <td>-0.020508</td>\n",
              "      <td>-0.982666</td>\n",
              "      <td>0.217125</td>\n",
              "      <td>0.182879</td>\n",
              "      <td>0.045317</td>\n",
              "      <td>-0.227372</td>\n",
              "      <td>4.302072</td>\n",
              "      <td>1.564885</td>\n",
              "      <td>2.041545</td>\n",
              "      <td>1.448443</td>\n",
              "      <td>4.603264</td>\n",
              "      <td>1.325321</td>\n",
              "      <td>-0.840853</td>\n",
              "      <td>3.523304</td>\n",
              "      <td>-3.183206</td>\n",
              "      <td>60.229008</td>\n",
              "      <td>21.908397</td>\n",
              "      <td>2.017343</td>\n",
              "      <td>-0.587249</td>\n",
              "      <td>12.851945</td>\n",
              "      <td>-1.961832</td>\n",
              "      <td>2.030534</td>\n",
              "      <td>0.137405</td>\n",
              "      <td>3.396947</td>\n",
              "      <td>5.572519</td>\n",
              "      <td>8.893130</td>\n",
              "      <td>2.041545</td>\n",
              "      <td>1.448443</td>\n",
              "      <td>4.603264</td>\n",
              "      <td>-0.500000</td>\n",
              "      <td>4.538168</td>\n",
              "      <td>1.083969</td>\n",
              "      <td>1.428826</td>\n",
              "      <td>1.203513</td>\n",
              "      <td>2.145522</td>\n",
              "    </tr>\n",
              "    <tr>\n",
              "      <th>1101</th>\n",
              "      <td>0.255580</td>\n",
              "      <td>-0.094744</td>\n",
              "      <td>-0.980190</td>\n",
              "      <td>0.047636</td>\n",
              "      <td>0.032625</td>\n",
              "      <td>0.002090</td>\n",
              "      <td>0.536514</td>\n",
              "      <td>-0.651531</td>\n",
              "      <td>1.084487</td>\n",
              "      <td>-1.313328</td>\n",
              "      <td>-0.847465</td>\n",
              "      <td>1.116025</td>\n",
              "      <td>3.578125</td>\n",
              "      <td>-1.326416</td>\n",
              "      <td>-13.722656</td>\n",
              "      <td>-0.007568</td>\n",
              "      <td>-0.431152</td>\n",
              "      <td>-1.043945</td>\n",
              "      <td>0.616943</td>\n",
              "      <td>0.144775</td>\n",
              "      <td>-0.873535</td>\n",
              "      <td>0.047636</td>\n",
              "      <td>0.032625</td>\n",
              "      <td>0.002090</td>\n",
              "      <td>0.146973</td>\n",
              "      <td>-0.028198</td>\n",
              "      <td>-0.991455</td>\n",
              "      <td>0.218257</td>\n",
              "      <td>0.180625</td>\n",
              "      <td>0.045717</td>\n",
              "      <td>-0.200654</td>\n",
              "      <td>4.314068</td>\n",
              "      <td>1.508724</td>\n",
              "      <td>1.992581</td>\n",
              "      <td>1.450936</td>\n",
              "      <td>4.736066</td>\n",
              "      <td>1.333748</td>\n",
              "      <td>-0.873210</td>\n",
              "      <td>3.439403</td>\n",
              "      <td>-2.809160</td>\n",
              "      <td>60.396947</td>\n",
              "      <td>21.122137</td>\n",
              "      <td>2.139233</td>\n",
              "      <td>-0.551866</td>\n",
              "      <td>12.434177</td>\n",
              "      <td>-1.961832</td>\n",
              "      <td>2.030534</td>\n",
              "      <td>0.045802</td>\n",
              "      <td>3.396947</td>\n",
              "      <td>5.572519</td>\n",
              "      <td>8.893130</td>\n",
              "      <td>1.992581</td>\n",
              "      <td>1.450936</td>\n",
              "      <td>4.736066</td>\n",
              "      <td>-0.500000</td>\n",
              "      <td>4.538168</td>\n",
              "      <td>1.083969</td>\n",
              "      <td>1.411588</td>\n",
              "      <td>1.204548</td>\n",
              "      <td>2.176250</td>\n",
              "    </tr>\n",
              "  </tbody>\n",
              "</table>\n",
              "<p>1102 rows × 60 columns</p>\n",
              "</div>"
            ],
            "text/plain": [
              "      AccMeanX  AccMeanY  AccMeanZ  ...  GyroStdX  GyroStdY  GyroStdZ\n",
              "0     0.285339 -0.138611 -0.957764  ...  0.872422  0.429385  0.512697\n",
              "1     0.313477 -0.161670 -0.956250  ...  1.749594  0.765501  0.519942\n",
              "2     0.325195 -0.158325 -0.950155  ...  1.771179  0.743257  0.951587\n",
              "3     0.336565 -0.172468 -0.937640  ...  1.676163  1.990743  0.945054\n",
              "4     0.337860 -0.164185 -0.941681  ...  1.633269  1.847808  0.894308\n",
              "...        ...       ...       ...  ...       ...       ...       ...\n",
              "1097  0.273228 -0.094552 -0.983939  ...  1.459337  1.311542  2.207612\n",
              "1098  0.264683 -0.092791 -0.976266  ...  1.432459  1.178880  2.134740\n",
              "1099  0.257098 -0.091030 -0.976039  ...  1.416403  1.173977  2.137460\n",
              "1100  0.257132 -0.091047 -0.978446  ...  1.428826  1.203513  2.145522\n",
              "1101  0.255580 -0.094744 -0.980190  ...  1.411588  1.204548  2.176250\n",
              "\n",
              "[1102 rows x 60 columns]"
            ]
          },
          "metadata": {},
          "execution_count": 10
        }
      ]
    },
    {
      "cell_type": "code",
      "metadata": {
        "id": "yLZsPpUL5Y66"
      },
      "source": [
        "X_train, X_test, Y_train, Y_test = train_test_split(X, Y, test_size=0.2) #Spliting train set tp 80% and Test Set to 20%"
      ],
      "execution_count": null,
      "outputs": []
    },
    {
      "cell_type": "code",
      "metadata": {
        "colab": {
          "base_uri": "https://localhost:8080/",
          "height": 444
        },
        "id": "RaXPNcLW5gqI",
        "outputId": "8b38a1a6-d58f-4318-b963-7d3c244116d2"
      },
      "source": [
        "X_train"
      ],
      "execution_count": null,
      "outputs": [
        {
          "output_type": "execute_result",
          "data": {
            "text/html": [
              "<div>\n",
              "<style scoped>\n",
              "    .dataframe tbody tr th:only-of-type {\n",
              "        vertical-align: middle;\n",
              "    }\n",
              "\n",
              "    .dataframe tbody tr th {\n",
              "        vertical-align: top;\n",
              "    }\n",
              "\n",
              "    .dataframe thead th {\n",
              "        text-align: right;\n",
              "    }\n",
              "</style>\n",
              "<table border=\"1\" class=\"dataframe\">\n",
              "  <thead>\n",
              "    <tr style=\"text-align: right;\">\n",
              "      <th></th>\n",
              "      <th>AccMeanX</th>\n",
              "      <th>AccMeanY</th>\n",
              "      <th>AccMeanZ</th>\n",
              "      <th>AccCovX</th>\n",
              "      <th>AccCovY</th>\n",
              "      <th>AccCovZ</th>\n",
              "      <th>AccSkewX</th>\n",
              "      <th>AccSkewY</th>\n",
              "      <th>AccSkewZ</th>\n",
              "      <th>AccKurtX</th>\n",
              "      <th>AccKurtY</th>\n",
              "      <th>AccKurtZ</th>\n",
              "      <th>AccSumX</th>\n",
              "      <th>AccSumY</th>\n",
              "      <th>AccSumZ</th>\n",
              "      <th>AccMinX</th>\n",
              "      <th>AccMinY</th>\n",
              "      <th>AccMinZ</th>\n",
              "      <th>AccMaxX</th>\n",
              "      <th>AccMaxY</th>\n",
              "      <th>AccMaxZ</th>\n",
              "      <th>AccVarX</th>\n",
              "      <th>AccVarY</th>\n",
              "      <th>AccVarZ</th>\n",
              "      <th>AccMedianX</th>\n",
              "      <th>AccMedianY</th>\n",
              "      <th>AccMedianZ</th>\n",
              "      <th>AccStdX</th>\n",
              "      <th>AccStdY</th>\n",
              "      <th>AccStdZ</th>\n",
              "      <th>GyroMeanX</th>\n",
              "      <th>GyroMeanY</th>\n",
              "      <th>GyroMeanZ</th>\n",
              "      <th>GyroCovX</th>\n",
              "      <th>GyroCovY</th>\n",
              "      <th>GyroCovZ</th>\n",
              "      <th>GyroSkewX</th>\n",
              "      <th>GyroSkewY</th>\n",
              "      <th>GyroSkewZ</th>\n",
              "      <th>GyroSumX</th>\n",
              "      <th>GyroSumY</th>\n",
              "      <th>GyroSumZ</th>\n",
              "      <th>GyroKurtX</th>\n",
              "      <th>GyroKurtY</th>\n",
              "      <th>GyroKurtZ</th>\n",
              "      <th>GyroMinX</th>\n",
              "      <th>GyroMinY</th>\n",
              "      <th>GyroMinZ</th>\n",
              "      <th>GyroMaxX</th>\n",
              "      <th>GyroMaxY</th>\n",
              "      <th>GyroMaxZ</th>\n",
              "      <th>GyroVarX</th>\n",
              "      <th>GyroVarY</th>\n",
              "      <th>GyroVarZ</th>\n",
              "      <th>GyroMedianX</th>\n",
              "      <th>GyroMedianY</th>\n",
              "      <th>GyroMedianZ</th>\n",
              "      <th>GyroStdX</th>\n",
              "      <th>GyroStdY</th>\n",
              "      <th>GyroStdZ</th>\n",
              "    </tr>\n",
              "  </thead>\n",
              "  <tbody>\n",
              "    <tr>\n",
              "      <th>457</th>\n",
              "      <td>0.212786</td>\n",
              "      <td>-0.172817</td>\n",
              "      <td>-0.984044</td>\n",
              "      <td>0.021469</td>\n",
              "      <td>0.037396</td>\n",
              "      <td>0.020997</td>\n",
              "      <td>-0.550336</td>\n",
              "      <td>-1.159398</td>\n",
              "      <td>-1.852026</td>\n",
              "      <td>-0.795410</td>\n",
              "      <td>0.164792</td>\n",
              "      <td>3.544812</td>\n",
              "      <td>2.979004</td>\n",
              "      <td>-2.419434</td>\n",
              "      <td>-13.776611</td>\n",
              "      <td>-0.052002</td>\n",
              "      <td>-0.558105</td>\n",
              "      <td>-1.367920</td>\n",
              "      <td>0.393799</td>\n",
              "      <td>0.058838</td>\n",
              "      <td>-0.800293</td>\n",
              "      <td>0.021469</td>\n",
              "      <td>0.037396</td>\n",
              "      <td>0.020997</td>\n",
              "      <td>0.239380</td>\n",
              "      <td>-0.109985</td>\n",
              "      <td>-0.940186</td>\n",
              "      <td>0.146522</td>\n",
              "      <td>0.193380</td>\n",
              "      <td>0.144905</td>\n",
              "      <td>-1.238277</td>\n",
              "      <td>3.512541</td>\n",
              "      <td>-7.081243</td>\n",
              "      <td>19.545823</td>\n",
              "      <td>22.695189</td>\n",
              "      <td>263.503253</td>\n",
              "      <td>0.483037</td>\n",
              "      <td>-0.587678</td>\n",
              "      <td>-1.415682</td>\n",
              "      <td>-17.335878</td>\n",
              "      <td>49.175573</td>\n",
              "      <td>-99.137405</td>\n",
              "      <td>-0.191680</td>\n",
              "      <td>1.371439</td>\n",
              "      <td>0.513696</td>\n",
              "      <td>-7.801527</td>\n",
              "      <td>-7.694656</td>\n",
              "      <td>-41.389313</td>\n",
              "      <td>6.923664</td>\n",
              "      <td>11.610687</td>\n",
              "      <td>5.290076</td>\n",
              "      <td>19.545823</td>\n",
              "      <td>22.695189</td>\n",
              "      <td>263.503253</td>\n",
              "      <td>-1.270992</td>\n",
              "      <td>3.484733</td>\n",
              "      <td>1.599237</td>\n",
              "      <td>4.421066</td>\n",
              "      <td>4.763947</td>\n",
              "      <td>16.232783</td>\n",
              "    </tr>\n",
              "    <tr>\n",
              "      <th>763</th>\n",
              "      <td>0.251622</td>\n",
              "      <td>-0.018485</td>\n",
              "      <td>-0.939976</td>\n",
              "      <td>0.011479</td>\n",
              "      <td>0.014958</td>\n",
              "      <td>0.007298</td>\n",
              "      <td>0.218611</td>\n",
              "      <td>0.712137</td>\n",
              "      <td>0.211469</td>\n",
              "      <td>-1.579802</td>\n",
              "      <td>-0.764155</td>\n",
              "      <td>1.100649</td>\n",
              "      <td>3.522705</td>\n",
              "      <td>-0.258789</td>\n",
              "      <td>-13.159668</td>\n",
              "      <td>0.104004</td>\n",
              "      <td>-0.159180</td>\n",
              "      <td>-1.110107</td>\n",
              "      <td>0.425537</td>\n",
              "      <td>0.217285</td>\n",
              "      <td>-0.757812</td>\n",
              "      <td>0.011479</td>\n",
              "      <td>0.014958</td>\n",
              "      <td>0.007298</td>\n",
              "      <td>0.225220</td>\n",
              "      <td>-0.050903</td>\n",
              "      <td>-0.950439</td>\n",
              "      <td>0.107140</td>\n",
              "      <td>0.122302</td>\n",
              "      <td>0.085426</td>\n",
              "      <td>-1.798800</td>\n",
              "      <td>5.261723</td>\n",
              "      <td>5.265540</td>\n",
              "      <td>3.914391</td>\n",
              "      <td>5.276530</td>\n",
              "      <td>48.765897</td>\n",
              "      <td>0.423880</td>\n",
              "      <td>-0.667758</td>\n",
              "      <td>2.040134</td>\n",
              "      <td>-25.183206</td>\n",
              "      <td>73.664122</td>\n",
              "      <td>73.717557</td>\n",
              "      <td>1.308422</td>\n",
              "      <td>1.730373</td>\n",
              "      <td>5.017365</td>\n",
              "      <td>-5.160305</td>\n",
              "      <td>-0.328244</td>\n",
              "      <td>-1.786260</td>\n",
              "      <td>2.748092</td>\n",
              "      <td>8.572519</td>\n",
              "      <td>25.427481</td>\n",
              "      <td>3.914391</td>\n",
              "      <td>5.276530</td>\n",
              "      <td>48.765897</td>\n",
              "      <td>-1.629771</td>\n",
              "      <td>4.996183</td>\n",
              "      <td>2.461832</td>\n",
              "      <td>1.978482</td>\n",
              "      <td>2.297070</td>\n",
              "      <td>6.983258</td>\n",
              "    </tr>\n",
              "    <tr>\n",
              "      <th>135</th>\n",
              "      <td>0.311471</td>\n",
              "      <td>-0.099854</td>\n",
              "      <td>-1.021781</td>\n",
              "      <td>0.036279</td>\n",
              "      <td>0.014670</td>\n",
              "      <td>0.019941</td>\n",
              "      <td>-0.310357</td>\n",
              "      <td>0.962556</td>\n",
              "      <td>-1.103697</td>\n",
              "      <td>-1.494134</td>\n",
              "      <td>0.307724</td>\n",
              "      <td>1.543013</td>\n",
              "      <td>4.360596</td>\n",
              "      <td>-1.397949</td>\n",
              "      <td>-14.304932</td>\n",
              "      <td>-0.017334</td>\n",
              "      <td>-0.235596</td>\n",
              "      <td>-1.359863</td>\n",
              "      <td>0.525391</td>\n",
              "      <td>0.163574</td>\n",
              "      <td>-0.837402</td>\n",
              "      <td>0.036279</td>\n",
              "      <td>0.014670</td>\n",
              "      <td>0.019941</td>\n",
              "      <td>0.328491</td>\n",
              "      <td>-0.106201</td>\n",
              "      <td>-1.012817</td>\n",
              "      <td>0.190469</td>\n",
              "      <td>0.121121</td>\n",
              "      <td>0.141214</td>\n",
              "      <td>-0.279716</td>\n",
              "      <td>4.474373</td>\n",
              "      <td>2.359324</td>\n",
              "      <td>7.357583</td>\n",
              "      <td>7.077711</td>\n",
              "      <td>4.654780</td>\n",
              "      <td>1.184402</td>\n",
              "      <td>1.039019</td>\n",
              "      <td>1.150777</td>\n",
              "      <td>-3.916031</td>\n",
              "      <td>62.641221</td>\n",
              "      <td>33.030534</td>\n",
              "      <td>1.004749</td>\n",
              "      <td>1.858407</td>\n",
              "      <td>0.912334</td>\n",
              "      <td>-4.099237</td>\n",
              "      <td>0.725191</td>\n",
              "      <td>0.167939</td>\n",
              "      <td>5.351145</td>\n",
              "      <td>11.091603</td>\n",
              "      <td>7.549618</td>\n",
              "      <td>7.357583</td>\n",
              "      <td>7.077711</td>\n",
              "      <td>4.654780</td>\n",
              "      <td>-1.015267</td>\n",
              "      <td>4.545802</td>\n",
              "      <td>1.377863</td>\n",
              "      <td>2.712486</td>\n",
              "      <td>2.660397</td>\n",
              "      <td>2.157494</td>\n",
              "    </tr>\n",
              "    <tr>\n",
              "      <th>363</th>\n",
              "      <td>0.158866</td>\n",
              "      <td>-0.185652</td>\n",
              "      <td>-0.991786</td>\n",
              "      <td>0.028074</td>\n",
              "      <td>0.026682</td>\n",
              "      <td>0.005636</td>\n",
              "      <td>0.112159</td>\n",
              "      <td>-1.191933</td>\n",
              "      <td>-0.977494</td>\n",
              "      <td>-1.478573</td>\n",
              "      <td>0.216202</td>\n",
              "      <td>1.542243</td>\n",
              "      <td>2.224121</td>\n",
              "      <td>-2.599121</td>\n",
              "      <td>-13.885010</td>\n",
              "      <td>-0.097656</td>\n",
              "      <td>-0.533447</td>\n",
              "      <td>-1.169922</td>\n",
              "      <td>0.395020</td>\n",
              "      <td>-0.001709</td>\n",
              "      <td>-0.884766</td>\n",
              "      <td>0.028074</td>\n",
              "      <td>0.026682</td>\n",
              "      <td>0.005636</td>\n",
              "      <td>0.130737</td>\n",
              "      <td>-0.124268</td>\n",
              "      <td>-0.989502</td>\n",
              "      <td>0.167554</td>\n",
              "      <td>0.163346</td>\n",
              "      <td>0.075073</td>\n",
              "      <td>0.408397</td>\n",
              "      <td>3.356052</td>\n",
              "      <td>-8.371865</td>\n",
              "      <td>8.851598</td>\n",
              "      <td>11.470459</td>\n",
              "      <td>241.368554</td>\n",
              "      <td>-0.002393</td>\n",
              "      <td>0.245547</td>\n",
              "      <td>-0.999296</td>\n",
              "      <td>5.717557</td>\n",
              "      <td>46.984733</td>\n",
              "      <td>-117.206107</td>\n",
              "      <td>0.008866</td>\n",
              "      <td>-0.618111</td>\n",
              "      <td>-0.369571</td>\n",
              "      <td>-5.496183</td>\n",
              "      <td>-2.167939</td>\n",
              "      <td>-40.893130</td>\n",
              "      <td>5.832061</td>\n",
              "      <td>9.580153</td>\n",
              "      <td>6.160305</td>\n",
              "      <td>8.851598</td>\n",
              "      <td>11.470459</td>\n",
              "      <td>241.368554</td>\n",
              "      <td>0.133588</td>\n",
              "      <td>3.557252</td>\n",
              "      <td>-1.091603</td>\n",
              "      <td>2.975163</td>\n",
              "      <td>3.386807</td>\n",
              "      <td>15.536040</td>\n",
              "    </tr>\n",
              "    <tr>\n",
              "      <th>1058</th>\n",
              "      <td>0.287510</td>\n",
              "      <td>-0.076503</td>\n",
              "      <td>-0.960903</td>\n",
              "      <td>0.052431</td>\n",
              "      <td>0.026821</td>\n",
              "      <td>0.007707</td>\n",
              "      <td>0.036538</td>\n",
              "      <td>-0.103940</td>\n",
              "      <td>-0.878917</td>\n",
              "      <td>-1.891685</td>\n",
              "      <td>-1.267592</td>\n",
              "      <td>1.043142</td>\n",
              "      <td>4.025146</td>\n",
              "      <td>-1.071045</td>\n",
              "      <td>-13.452637</td>\n",
              "      <td>0.000977</td>\n",
              "      <td>-0.353516</td>\n",
              "      <td>-1.169678</td>\n",
              "      <td>0.590576</td>\n",
              "      <td>0.168457</td>\n",
              "      <td>-0.848145</td>\n",
              "      <td>0.052431</td>\n",
              "      <td>0.026821</td>\n",
              "      <td>0.007707</td>\n",
              "      <td>0.284912</td>\n",
              "      <td>-0.102661</td>\n",
              "      <td>-0.958130</td>\n",
              "      <td>0.228978</td>\n",
              "      <td>0.163771</td>\n",
              "      <td>0.087789</td>\n",
              "      <td>-0.137405</td>\n",
              "      <td>4.917666</td>\n",
              "      <td>1.058888</td>\n",
              "      <td>4.749849</td>\n",
              "      <td>1.547060</td>\n",
              "      <td>0.479400</td>\n",
              "      <td>1.452954</td>\n",
              "      <td>0.213629</td>\n",
              "      <td>-0.094081</td>\n",
              "      <td>-1.923664</td>\n",
              "      <td>68.847328</td>\n",
              "      <td>14.824427</td>\n",
              "      <td>2.731234</td>\n",
              "      <td>0.397074</td>\n",
              "      <td>-1.150677</td>\n",
              "      <td>-2.557252</td>\n",
              "      <td>2.541985</td>\n",
              "      <td>-0.099237</td>\n",
              "      <td>5.633588</td>\n",
              "      <td>7.435115</td>\n",
              "      <td>2.083969</td>\n",
              "      <td>4.749849</td>\n",
              "      <td>1.547060</td>\n",
              "      <td>0.479400</td>\n",
              "      <td>-0.721374</td>\n",
              "      <td>4.992366</td>\n",
              "      <td>1.072519</td>\n",
              "      <td>2.179415</td>\n",
              "      <td>1.243809</td>\n",
              "      <td>0.692387</td>\n",
              "    </tr>\n",
              "    <tr>\n",
              "      <th>...</th>\n",
              "      <td>...</td>\n",
              "      <td>...</td>\n",
              "      <td>...</td>\n",
              "      <td>...</td>\n",
              "      <td>...</td>\n",
              "      <td>...</td>\n",
              "      <td>...</td>\n",
              "      <td>...</td>\n",
              "      <td>...</td>\n",
              "      <td>...</td>\n",
              "      <td>...</td>\n",
              "      <td>...</td>\n",
              "      <td>...</td>\n",
              "      <td>...</td>\n",
              "      <td>...</td>\n",
              "      <td>...</td>\n",
              "      <td>...</td>\n",
              "      <td>...</td>\n",
              "      <td>...</td>\n",
              "      <td>...</td>\n",
              "      <td>...</td>\n",
              "      <td>...</td>\n",
              "      <td>...</td>\n",
              "      <td>...</td>\n",
              "      <td>...</td>\n",
              "      <td>...</td>\n",
              "      <td>...</td>\n",
              "      <td>...</td>\n",
              "      <td>...</td>\n",
              "      <td>...</td>\n",
              "      <td>...</td>\n",
              "      <td>...</td>\n",
              "      <td>...</td>\n",
              "      <td>...</td>\n",
              "      <td>...</td>\n",
              "      <td>...</td>\n",
              "      <td>...</td>\n",
              "      <td>...</td>\n",
              "      <td>...</td>\n",
              "      <td>...</td>\n",
              "      <td>...</td>\n",
              "      <td>...</td>\n",
              "      <td>...</td>\n",
              "      <td>...</td>\n",
              "      <td>...</td>\n",
              "      <td>...</td>\n",
              "      <td>...</td>\n",
              "      <td>...</td>\n",
              "      <td>...</td>\n",
              "      <td>...</td>\n",
              "      <td>...</td>\n",
              "      <td>...</td>\n",
              "      <td>...</td>\n",
              "      <td>...</td>\n",
              "      <td>...</td>\n",
              "      <td>...</td>\n",
              "      <td>...</td>\n",
              "      <td>...</td>\n",
              "      <td>...</td>\n",
              "      <td>...</td>\n",
              "    </tr>\n",
              "    <tr>\n",
              "      <th>501</th>\n",
              "      <td>0.260202</td>\n",
              "      <td>-0.180751</td>\n",
              "      <td>-0.949864</td>\n",
              "      <td>0.012288</td>\n",
              "      <td>0.028007</td>\n",
              "      <td>0.002141</td>\n",
              "      <td>-0.347659</td>\n",
              "      <td>-1.822376</td>\n",
              "      <td>-0.159364</td>\n",
              "      <td>-1.145088</td>\n",
              "      <td>2.712126</td>\n",
              "      <td>-1.236705</td>\n",
              "      <td>3.642822</td>\n",
              "      <td>-2.530518</td>\n",
              "      <td>-13.298096</td>\n",
              "      <td>0.081543</td>\n",
              "      <td>-0.593262</td>\n",
              "      <td>-1.018555</td>\n",
              "      <td>0.430420</td>\n",
              "      <td>-0.010010</td>\n",
              "      <td>-0.882324</td>\n",
              "      <td>0.012288</td>\n",
              "      <td>0.028007</td>\n",
              "      <td>0.002141</td>\n",
              "      <td>0.284058</td>\n",
              "      <td>-0.124023</td>\n",
              "      <td>-0.942383</td>\n",
              "      <td>0.110851</td>\n",
              "      <td>0.167354</td>\n",
              "      <td>0.046272</td>\n",
              "      <td>-0.064340</td>\n",
              "      <td>3.689204</td>\n",
              "      <td>-4.458561</td>\n",
              "      <td>11.747600</td>\n",
              "      <td>6.106318</td>\n",
              "      <td>132.251899</td>\n",
              "      <td>0.466347</td>\n",
              "      <td>-1.200239</td>\n",
              "      <td>-2.062058</td>\n",
              "      <td>-0.900763</td>\n",
              "      <td>51.648855</td>\n",
              "      <td>-62.419847</td>\n",
              "      <td>-0.586194</td>\n",
              "      <td>1.651580</td>\n",
              "      <td>3.060910</td>\n",
              "      <td>-4.885496</td>\n",
              "      <td>-2.267176</td>\n",
              "      <td>-33.045802</td>\n",
              "      <td>5.893130</td>\n",
              "      <td>7.419847</td>\n",
              "      <td>1.748092</td>\n",
              "      <td>11.747600</td>\n",
              "      <td>6.106318</td>\n",
              "      <td>132.251899</td>\n",
              "      <td>-0.641221</td>\n",
              "      <td>4.522901</td>\n",
              "      <td>0.541985</td>\n",
              "      <td>3.427477</td>\n",
              "      <td>2.471097</td>\n",
              "      <td>11.500083</td>\n",
              "    </tr>\n",
              "    <tr>\n",
              "      <th>828</th>\n",
              "      <td>0.321463</td>\n",
              "      <td>-0.185372</td>\n",
              "      <td>-0.981829</td>\n",
              "      <td>0.010364</td>\n",
              "      <td>0.003370</td>\n",
              "      <td>0.005190</td>\n",
              "      <td>0.961241</td>\n",
              "      <td>-0.767373</td>\n",
              "      <td>-0.254586</td>\n",
              "      <td>0.802228</td>\n",
              "      <td>0.715123</td>\n",
              "      <td>0.337549</td>\n",
              "      <td>4.500488</td>\n",
              "      <td>-2.595215</td>\n",
              "      <td>-13.745605</td>\n",
              "      <td>0.177734</td>\n",
              "      <td>-0.316650</td>\n",
              "      <td>-1.130371</td>\n",
              "      <td>0.553711</td>\n",
              "      <td>-0.101807</td>\n",
              "      <td>-0.849854</td>\n",
              "      <td>0.010364</td>\n",
              "      <td>0.003370</td>\n",
              "      <td>0.005190</td>\n",
              "      <td>0.286255</td>\n",
              "      <td>-0.176392</td>\n",
              "      <td>-0.987793</td>\n",
              "      <td>0.101804</td>\n",
              "      <td>0.058056</td>\n",
              "      <td>0.072040</td>\n",
              "      <td>-1.202290</td>\n",
              "      <td>2.856052</td>\n",
              "      <td>0.998364</td>\n",
              "      <td>5.565444</td>\n",
              "      <td>8.647971</td>\n",
              "      <td>2.346494</td>\n",
              "      <td>-1.529868</td>\n",
              "      <td>-0.357570</td>\n",
              "      <td>0.757293</td>\n",
              "      <td>-16.832061</td>\n",
              "      <td>39.984733</td>\n",
              "      <td>13.977099</td>\n",
              "      <td>3.231884</td>\n",
              "      <td>-1.132853</td>\n",
              "      <td>-0.775478</td>\n",
              "      <td>-7.541985</td>\n",
              "      <td>-1.885496</td>\n",
              "      <td>-0.801527</td>\n",
              "      <td>1.427481</td>\n",
              "      <td>7.068702</td>\n",
              "      <td>3.694656</td>\n",
              "      <td>5.565444</td>\n",
              "      <td>8.647971</td>\n",
              "      <td>2.346494</td>\n",
              "      <td>-1.015267</td>\n",
              "      <td>3.125954</td>\n",
              "      <td>0.603053</td>\n",
              "      <td>2.359119</td>\n",
              "      <td>2.940743</td>\n",
              "      <td>1.531827</td>\n",
              "    </tr>\n",
              "    <tr>\n",
              "      <th>68</th>\n",
              "      <td>0.366996</td>\n",
              "      <td>-0.163627</td>\n",
              "      <td>-1.018520</td>\n",
              "      <td>0.016324</td>\n",
              "      <td>0.007036</td>\n",
              "      <td>0.021741</td>\n",
              "      <td>-0.543619</td>\n",
              "      <td>-0.287138</td>\n",
              "      <td>-0.588781</td>\n",
              "      <td>-0.671814</td>\n",
              "      <td>-0.459947</td>\n",
              "      <td>-0.726896</td>\n",
              "      <td>5.137939</td>\n",
              "      <td>-2.290771</td>\n",
              "      <td>-14.259277</td>\n",
              "      <td>0.127441</td>\n",
              "      <td>-0.325195</td>\n",
              "      <td>-1.280518</td>\n",
              "      <td>0.555176</td>\n",
              "      <td>-0.033203</td>\n",
              "      <td>-0.826416</td>\n",
              "      <td>0.016324</td>\n",
              "      <td>0.007036</td>\n",
              "      <td>0.021741</td>\n",
              "      <td>0.394653</td>\n",
              "      <td>-0.170898</td>\n",
              "      <td>-1.008789</td>\n",
              "      <td>0.127765</td>\n",
              "      <td>0.083883</td>\n",
              "      <td>0.147449</td>\n",
              "      <td>-1.472737</td>\n",
              "      <td>4.593784</td>\n",
              "      <td>0.236641</td>\n",
              "      <td>8.615443</td>\n",
              "      <td>12.269019</td>\n",
              "      <td>2.250783</td>\n",
              "      <td>0.263305</td>\n",
              "      <td>0.342867</td>\n",
              "      <td>0.414046</td>\n",
              "      <td>-20.618321</td>\n",
              "      <td>64.312977</td>\n",
              "      <td>3.312977</td>\n",
              "      <td>-0.949939</td>\n",
              "      <td>-0.587045</td>\n",
              "      <td>1.133270</td>\n",
              "      <td>-5.488550</td>\n",
              "      <td>-0.229008</td>\n",
              "      <td>-2.190840</td>\n",
              "      <td>3.458015</td>\n",
              "      <td>11.496183</td>\n",
              "      <td>3.702290</td>\n",
              "      <td>8.615443</td>\n",
              "      <td>12.269019</td>\n",
              "      <td>2.250783</td>\n",
              "      <td>-1.301527</td>\n",
              "      <td>4.446565</td>\n",
              "      <td>0.637405</td>\n",
              "      <td>2.935207</td>\n",
              "      <td>3.502716</td>\n",
              "      <td>1.500261</td>\n",
              "    </tr>\n",
              "    <tr>\n",
              "      <th>723</th>\n",
              "      <td>0.253401</td>\n",
              "      <td>0.030866</td>\n",
              "      <td>-0.990199</td>\n",
              "      <td>0.009481</td>\n",
              "      <td>0.058506</td>\n",
              "      <td>0.015215</td>\n",
              "      <td>-0.408958</td>\n",
              "      <td>1.436896</td>\n",
              "      <td>-1.277167</td>\n",
              "      <td>-0.490699</td>\n",
              "      <td>1.264477</td>\n",
              "      <td>2.005110</td>\n",
              "      <td>3.547607</td>\n",
              "      <td>0.432129</td>\n",
              "      <td>-13.862793</td>\n",
              "      <td>0.061768</td>\n",
              "      <td>-0.173096</td>\n",
              "      <td>-1.286377</td>\n",
              "      <td>0.399414</td>\n",
              "      <td>0.607178</td>\n",
              "      <td>-0.815918</td>\n",
              "      <td>0.009481</td>\n",
              "      <td>0.058506</td>\n",
              "      <td>0.015215</td>\n",
              "      <td>0.260742</td>\n",
              "      <td>-0.087280</td>\n",
              "      <td>-0.969238</td>\n",
              "      <td>0.097373</td>\n",
              "      <td>0.241880</td>\n",
              "      <td>0.123348</td>\n",
              "      <td>-0.547437</td>\n",
              "      <td>4.808615</td>\n",
              "      <td>10.214286</td>\n",
              "      <td>13.921597</td>\n",
              "      <td>12.279367</td>\n",
              "      <td>209.585110</td>\n",
              "      <td>-0.882852</td>\n",
              "      <td>0.917671</td>\n",
              "      <td>1.316376</td>\n",
              "      <td>-7.664122</td>\n",
              "      <td>67.320611</td>\n",
              "      <td>143.000000</td>\n",
              "      <td>1.910197</td>\n",
              "      <td>1.110017</td>\n",
              "      <td>0.574373</td>\n",
              "      <td>-8.786260</td>\n",
              "      <td>-0.122137</td>\n",
              "      <td>-0.648855</td>\n",
              "      <td>6.312977</td>\n",
              "      <td>12.931298</td>\n",
              "      <td>43.488550</td>\n",
              "      <td>13.921597</td>\n",
              "      <td>12.279367</td>\n",
              "      <td>209.585110</td>\n",
              "      <td>-0.251908</td>\n",
              "      <td>4.187023</td>\n",
              "      <td>1.427481</td>\n",
              "      <td>3.731166</td>\n",
              "      <td>3.504193</td>\n",
              "      <td>14.477055</td>\n",
              "    </tr>\n",
              "    <tr>\n",
              "      <th>677</th>\n",
              "      <td>0.221104</td>\n",
              "      <td>0.033604</td>\n",
              "      <td>-0.958479</td>\n",
              "      <td>0.019078</td>\n",
              "      <td>0.046807</td>\n",
              "      <td>0.018083</td>\n",
              "      <td>-0.515137</td>\n",
              "      <td>1.143506</td>\n",
              "      <td>-0.173719</td>\n",
              "      <td>0.253403</td>\n",
              "      <td>0.365568</td>\n",
              "      <td>-0.340406</td>\n",
              "      <td>3.095459</td>\n",
              "      <td>0.470459</td>\n",
              "      <td>-13.418701</td>\n",
              "      <td>-0.060059</td>\n",
              "      <td>-0.175293</td>\n",
              "      <td>-1.181396</td>\n",
              "      <td>0.443115</td>\n",
              "      <td>0.490967</td>\n",
              "      <td>-0.713623</td>\n",
              "      <td>0.019078</td>\n",
              "      <td>0.046807</td>\n",
              "      <td>0.018083</td>\n",
              "      <td>0.216797</td>\n",
              "      <td>-0.042969</td>\n",
              "      <td>-0.931396</td>\n",
              "      <td>0.138122</td>\n",
              "      <td>0.216349</td>\n",
              "      <td>0.134474</td>\n",
              "      <td>-1.968920</td>\n",
              "      <td>2.798255</td>\n",
              "      <td>10.378408</td>\n",
              "      <td>16.555360</td>\n",
              "      <td>14.105738</td>\n",
              "      <td>173.030796</td>\n",
              "      <td>-0.266961</td>\n",
              "      <td>-0.521765</td>\n",
              "      <td>1.302990</td>\n",
              "      <td>-27.564885</td>\n",
              "      <td>39.175573</td>\n",
              "      <td>145.297710</td>\n",
              "      <td>-0.061016</td>\n",
              "      <td>-1.061343</td>\n",
              "      <td>0.783985</td>\n",
              "      <td>-9.893130</td>\n",
              "      <td>-3.732824</td>\n",
              "      <td>-0.137405</td>\n",
              "      <td>5.648855</td>\n",
              "      <td>7.801527</td>\n",
              "      <td>40.839695</td>\n",
              "      <td>16.555360</td>\n",
              "      <td>14.105738</td>\n",
              "      <td>173.030796</td>\n",
              "      <td>-0.702290</td>\n",
              "      <td>3.778626</td>\n",
              "      <td>3.015267</td>\n",
              "      <td>4.068828</td>\n",
              "      <td>3.755761</td>\n",
              "      <td>13.154117</td>\n",
              "    </tr>\n",
              "  </tbody>\n",
              "</table>\n",
              "<p>881 rows × 60 columns</p>\n",
              "</div>"
            ],
            "text/plain": [
              "      AccMeanX  AccMeanY  AccMeanZ  ...  GyroStdX  GyroStdY   GyroStdZ\n",
              "457   0.212786 -0.172817 -0.984044  ...  4.421066  4.763947  16.232783\n",
              "763   0.251622 -0.018485 -0.939976  ...  1.978482  2.297070   6.983258\n",
              "135   0.311471 -0.099854 -1.021781  ...  2.712486  2.660397   2.157494\n",
              "363   0.158866 -0.185652 -0.991786  ...  2.975163  3.386807  15.536040\n",
              "1058  0.287510 -0.076503 -0.960903  ...  2.179415  1.243809   0.692387\n",
              "...        ...       ...       ...  ...       ...       ...        ...\n",
              "501   0.260202 -0.180751 -0.949864  ...  3.427477  2.471097  11.500083\n",
              "828   0.321463 -0.185372 -0.981829  ...  2.359119  2.940743   1.531827\n",
              "68    0.366996 -0.163627 -1.018520  ...  2.935207  3.502716   1.500261\n",
              "723   0.253401  0.030866 -0.990199  ...  3.731166  3.504193  14.477055\n",
              "677   0.221104  0.033604 -0.958479  ...  4.068828  3.755761  13.154117\n",
              "\n",
              "[881 rows x 60 columns]"
            ]
          },
          "metadata": {},
          "execution_count": 12
        }
      ]
    },
    {
      "cell_type": "markdown",
      "metadata": {
        "id": "1ZIhuu34QSBY"
      },
      "source": [
        "###Linear Regression "
      ]
    },
    {
      "cell_type": "code",
      "metadata": {
        "id": "AQOTsScU5gnN"
      },
      "source": [
        "model = linear_model.LinearRegression()"
      ],
      "execution_count": null,
      "outputs": []
    },
    {
      "cell_type": "code",
      "metadata": {
        "colab": {
          "base_uri": "https://localhost:8080/"
        },
        "id": "drSrjIGL5gkV",
        "outputId": "439bc1c3-781d-44d7-c854-280bcba70bc4"
      },
      "source": [
        "model.fit(X_train, Y_train)"
      ],
      "execution_count": null,
      "outputs": [
        {
          "output_type": "execute_result",
          "data": {
            "text/plain": [
              "LinearRegression(copy_X=True, fit_intercept=True, n_jobs=None, normalize=False)"
            ]
          },
          "metadata": {},
          "execution_count": 14
        }
      ]
    },
    {
      "cell_type": "code",
      "metadata": {
        "id": "qaDet48q5ghM"
      },
      "source": [
        "Y_pred = model.predict(X_test)"
      ],
      "execution_count": null,
      "outputs": []
    },
    {
      "cell_type": "code",
      "metadata": {
        "colab": {
          "base_uri": "https://localhost:8080/"
        },
        "id": "jVE6Da7E5gdb",
        "outputId": "75f0ba08-61e5-4dc4-f56f-434884aeb36f"
      },
      "source": [
        "Y_pred.shape"
      ],
      "execution_count": null,
      "outputs": [
        {
          "output_type": "execute_result",
          "data": {
            "text/plain": [
              "(221,)"
            ]
          },
          "metadata": {},
          "execution_count": 16
        }
      ]
    },
    {
      "cell_type": "code",
      "metadata": {
        "colab": {
          "base_uri": "https://localhost:8080/"
        },
        "id": "rmjlIzv45gX1",
        "outputId": "bb876e4a-4390-4509-b6ac-a8053d129eaa"
      },
      "source": [
        "print('Coefficients:', model.coef_)\n",
        "print('Intercept:', model.intercept_)\n",
        "print('Mean squared error (MSE): %.2f'\n",
        "      % mean_squared_error(Y_test, Y_pred))\n",
        "print('Coefficient of determination (R^2): %.2f'\n",
        "      % r2_score(Y_test, Y_pred))"
      ],
      "execution_count": null,
      "outputs": [
        {
          "output_type": "stream",
          "name": "stdout",
          "text": [
            "Coefficients: [ 1.13017233e+01  3.49132989e+01  5.88046337e-01 -3.28894496e+09\n",
            "  3.10457190e+09 -3.00655847e+09  1.17302333e-02 -7.51118035e-02\n",
            " -1.30593417e-01  6.72535099e-02 -3.30790113e-02 -3.37793824e-02\n",
            " -1.01800731e+00 -1.97302282e+00  2.18597946e-01  7.98487777e-01\n",
            " -7.84396393e-01 -5.99600842e-01 -4.32652759e-01 -8.96575564e-01\n",
            "  1.40960370e+00  3.28894504e+09 -3.10457193e+09  3.00655849e+09\n",
            "  1.08282681e+00 -2.05154825e+00 -4.54680373e+00 -2.50933913e+01\n",
            "  1.44285485e+01 -1.25435197e+01 -1.29703866e+00 -6.45911246e-01\n",
            " -5.42882325e-01 -1.98491964e+09 -3.45052310e+10  9.67869635e+11\n",
            " -5.80548048e-02  1.74152136e-01  1.69780731e-01  9.28113461e-02\n",
            "  4.97784615e-02  3.90592217e-02  4.37943935e-02 -6.09654188e-02\n",
            "  6.17098808e-03  6.92800628e-02 -1.00707531e-01  1.59239769e-03\n",
            "  1.98282599e-02 -2.27215886e-02  1.48625374e-02  1.98491964e+09\n",
            "  3.45052310e+10 -9.67869635e+11  4.65137362e-02  1.09645367e-01\n",
            "  7.97224045e-03  3.12112592e-01 -2.92060137e-01 -1.01869881e-01]\n",
            "Intercept: 4.379142878702613\n",
            "Mean squared error (MSE): 0.18\n",
            "Coefficient of determination (R^2): 0.84\n"
          ]
        }
      ]
    },
    {
      "cell_type": "code",
      "metadata": {
        "colab": {
          "base_uri": "https://localhost:8080/"
        },
        "id": "GAgjoCU95-9w",
        "outputId": "c9b4581d-1a7d-4c33-fb6f-d2b59efadb1c"
      },
      "source": [
        "r2_score(Y_test, Y_pred)"
      ],
      "execution_count": null,
      "outputs": [
        {
          "output_type": "execute_result",
          "data": {
            "text/plain": [
              "0.8412986911476289"
            ]
          },
          "metadata": {},
          "execution_count": 18
        }
      ]
    },
    {
      "cell_type": "code",
      "metadata": {
        "colab": {
          "base_uri": "https://localhost:8080/"
        },
        "id": "JtxXBZTt5-7Z",
        "outputId": "5bc7e31b-4a47-4589-8372-b7818e528d4c"
      },
      "source": [
        "model.fit(X_train,Y_train)"
      ],
      "execution_count": null,
      "outputs": [
        {
          "output_type": "execute_result",
          "data": {
            "text/plain": [
              "LinearRegression(copy_X=True, fit_intercept=True, n_jobs=None, normalize=False)"
            ]
          },
          "metadata": {},
          "execution_count": 19
        }
      ]
    },
    {
      "cell_type": "code",
      "metadata": {
        "colab": {
          "base_uri": "https://localhost:8080/"
        },
        "id": "R16TVqsX5-4l",
        "outputId": "ab2a4e79-3b40-49e9-cf7e-79851588a731"
      },
      "source": [
        "Y_test"
      ],
      "execution_count": null,
      "outputs": [
        {
          "output_type": "execute_result",
          "data": {
            "text/plain": [
              "450    2\n",
              "791    3\n",
              "471    2\n",
              "352    2\n",
              "55     1\n",
              "      ..\n",
              "354    2\n",
              "30     1\n",
              "71     1\n",
              "679    3\n",
              "258    2\n",
              "Name: Target, Length: 221, dtype: int64"
            ]
          },
          "metadata": {},
          "execution_count": 20
        }
      ]
    },
    {
      "cell_type": "code",
      "metadata": {
        "colab": {
          "base_uri": "https://localhost:8080/"
        },
        "id": "nkISs3rq5-18",
        "outputId": "b1242e11-fb81-42de-d756-819df6e25f65"
      },
      "source": [
        "Y_pred"
      ],
      "execution_count": null,
      "outputs": [
        {
          "output_type": "execute_result",
          "data": {
            "text/plain": [
              "array([2.09379205, 3.52257588, 2.07517353, 1.74336756, 1.16911772,\n",
              "       1.56393826, 3.30619814, 3.14182413, 1.6726486 , 4.07742114,\n",
              "       2.25774732, 1.0849749 , 2.23471591, 2.81313245, 1.18096558,\n",
              "       3.81100567, 2.0388889 , 3.88949152, 3.3062459 , 1.9594137 ,\n",
              "       1.23032123, 3.58907156, 3.20534907, 1.92801744, 1.64972082,\n",
              "       1.56735341, 1.83190605, 3.987627  , 1.65097603, 3.74910138,\n",
              "       2.92032135, 0.91471351, 3.0279476 , 1.03284376, 4.06769081,\n",
              "       0.8348165 , 2.61708085, 2.11509261, 1.66978622, 1.60822296,\n",
              "       0.85137332, 2.4686788 , 1.31292946, 1.6683188 , 2.42942487,\n",
              "       1.55571007, 1.44224433, 2.89146169, 3.24819809, 2.78577413,\n",
              "       4.21421969, 2.92177047, 0.8350918 , 3.99588924, 1.4479589 ,\n",
              "       2.35527108, 2.29852277, 1.95658122, 1.29722538, 2.43632368,\n",
              "       3.67971708, 3.11440263, 3.52275225, 4.05179504, 4.28016107,\n",
              "       3.03962752, 3.11982387, 1.29882433, 1.94648245, 2.09933428,\n",
              "       1.53814518, 1.72325162, 1.69631658, 1.26816426, 3.71524905,\n",
              "       0.91224582, 3.83003078, 4.33543496, 3.66924026, 1.92908136,\n",
              "       2.87944033, 3.52838991, 2.10891329, 2.59913518, 1.4983434 ,\n",
              "       1.55752099, 2.17478056, 1.7171995 , 3.47087345, 1.66205323,\n",
              "       2.34387651, 1.00831923, 4.06985657, 3.74850471, 1.86739524,\n",
              "       2.22341172, 2.06255795, 1.71259252, 2.54985257, 3.78260466,\n",
              "       1.37673292, 1.61931095, 3.92159109, 2.11296032, 2.93813271,\n",
              "       2.99617314, 1.96756506, 1.85917555, 3.26802172, 2.65699819,\n",
              "       1.6553389 , 1.74502681, 0.84255215, 2.01045202, 3.05628543,\n",
              "       3.05795828, 2.93644153, 0.99668144, 1.66030522, 3.95319011,\n",
              "       2.69792694, 2.29799857, 1.75517649, 1.93287341, 4.45084527,\n",
              "       2.72065327, 1.0256852 , 2.22936539, 3.15279368, 1.15985333,\n",
              "       1.40406601, 1.96770752, 3.85011654, 1.94881294, 3.56287571,\n",
              "       3.45358026, 3.74457423, 1.384439  , 1.46549899, 1.32670086,\n",
              "       2.81774647, 0.6054009 , 2.13819672, 1.60229934, 4.05818104,\n",
              "       1.8946679 , 0.8044651 , 2.31961559, 1.93851352, 2.84223659,\n",
              "       1.91169589, 1.33447189, 1.04514834, 1.85112213, 2.10980545,\n",
              "       2.15121814, 2.00033152, 3.55436235, 1.0492077 , 3.04265161,\n",
              "       4.25531582, 1.46164125, 1.09964408, 1.57341242, 0.97425909,\n",
              "       2.23288658, 0.98537945, 2.79185665, 2.20121043, 2.91030772,\n",
              "       1.95790633, 1.9645333 , 2.51072728, 3.65202311, 2.08731612,\n",
              "       2.88169209, 1.12740263, 2.09871354, 3.5479199 , 1.75064945,\n",
              "       2.18574248, 2.59616557, 1.60185473, 3.87056986, 1.84083314,\n",
              "       3.60145003, 2.31474533, 1.74284721, 2.43625766, 3.33190866,\n",
              "       2.58537655, 2.0191401 , 1.50430591, 2.58748404, 1.32601116,\n",
              "       2.25680478, 3.88956833, 3.27303099, 1.32021618, 2.72219363,\n",
              "       3.31334868, 1.40823295, 1.59243003, 1.73730316, 1.24272031,\n",
              "       1.49894133, 3.25963914, 1.90747023, 3.3160047 , 2.69103434,\n",
              "       4.16031138, 1.30717562, 3.18049454, 3.92584948, 2.18353067,\n",
              "       1.5700759 , 2.05038845, 1.02059502, 1.01900283, 2.72228696,\n",
              "       2.15154932])"
            ]
          },
          "metadata": {},
          "execution_count": 21
        }
      ]
    },
    {
      "cell_type": "code",
      "metadata": {
        "id": "IjjO9um-5-yn"
      },
      "source": [
        "y_pred = pd.DataFrame(Y_pred)"
      ],
      "execution_count": null,
      "outputs": []
    },
    {
      "cell_type": "code",
      "metadata": {
        "colab": {
          "base_uri": "https://localhost:8080/"
        },
        "id": "br92RuST6SCQ",
        "outputId": "00837e3a-f5ae-4605-e595-1a95e2d37913"
      },
      "source": [
        "r2_score(Y_test, Y_pred)"
      ],
      "execution_count": null,
      "outputs": [
        {
          "output_type": "execute_result",
          "data": {
            "text/plain": [
              "0.8412986911476289"
            ]
          },
          "metadata": {},
          "execution_count": 23
        }
      ]
    },
    {
      "cell_type": "code",
      "metadata": {
        "colab": {
          "base_uri": "https://localhost:8080/"
        },
        "id": "eSeHdCdj6S5A",
        "outputId": "7bf7850b-cfb5-43ab-e29a-4c90286e34ef"
      },
      "source": [
        "r2_score(Y_test, Y_pred).dtype"
      ],
      "execution_count": null,
      "outputs": [
        {
          "output_type": "execute_result",
          "data": {
            "text/plain": [
              "dtype('float64')"
            ]
          },
          "metadata": {},
          "execution_count": 24
        }
      ]
    },
    {
      "cell_type": "code",
      "metadata": {
        "colab": {
          "base_uri": "https://localhost:8080/"
        },
        "id": "bk8Q7my66V6P",
        "outputId": "32e74d0d-5993-487c-c835-e6dc4c73dfda"
      },
      "source": [
        "model.score(X_test,Y_test)"
      ],
      "execution_count": null,
      "outputs": [
        {
          "output_type": "execute_result",
          "data": {
            "text/plain": [
              "0.8412986911476289"
            ]
          },
          "metadata": {},
          "execution_count": 25
        }
      ]
    },
    {
      "cell_type": "code",
      "metadata": {
        "id": "ZJANXwWb6XlG"
      },
      "source": [
        "y_preds = Y_pred > 0.5"
      ],
      "execution_count": null,
      "outputs": []
    },
    {
      "cell_type": "code",
      "metadata": {
        "colab": {
          "base_uri": "https://localhost:8080/"
        },
        "id": "BVMTOxGd6ZaK",
        "outputId": "c2862803-1b09-43bf-8637-dc9e6c570d6c"
      },
      "source": [
        "cm = confusion_matrix(Y_test, y_preds)\n",
        "cm"
      ],
      "execution_count": null,
      "outputs": [
        {
          "output_type": "execute_result",
          "data": {
            "text/plain": [
              "array([[63,  0,  0,  0],\n",
              "       [61,  0,  0,  0],\n",
              "       [58,  0,  0,  0],\n",
              "       [39,  0,  0,  0]])"
            ]
          },
          "metadata": {},
          "execution_count": 57
        }
      ]
    },
    {
      "cell_type": "code",
      "metadata": {
        "id": "TMQBKTQ06zb0"
      },
      "source": [
        "import seaborn as sns"
      ],
      "execution_count": null,
      "outputs": []
    },
    {
      "cell_type": "code",
      "metadata": {
        "colab": {
          "base_uri": "https://localhost:8080/"
        },
        "id": "Jb55etc6656f",
        "outputId": "9276da9d-4962-497e-e3a4-5f77d71791d3"
      },
      "source": [
        "Y_test"
      ],
      "execution_count": null,
      "outputs": [
        {
          "output_type": "execute_result",
          "data": {
            "text/plain": [
              "450    2\n",
              "791    3\n",
              "471    2\n",
              "352    2\n",
              "55     1\n",
              "      ..\n",
              "354    2\n",
              "30     1\n",
              "71     1\n",
              "679    3\n",
              "258    2\n",
              "Name: Target, Length: 221, dtype: int64"
            ]
          },
          "metadata": {},
          "execution_count": 29
        }
      ]
    },
    {
      "cell_type": "code",
      "metadata": {
        "colab": {
          "base_uri": "https://localhost:8080/"
        },
        "id": "MdYsxdsFDYLf",
        "outputId": "01f05d74-6302-4958-f46b-843f573d69b0"
      },
      "source": [
        "import numpy as np\n",
        "np.array(Y_test)"
      ],
      "execution_count": null,
      "outputs": [
        {
          "output_type": "execute_result",
          "data": {
            "text/plain": [
              "array([2, 3, 2, 2, 1, 1, 4, 3, 1, 4, 2, 1, 2, 3, 1, 3, 2, 4, 3, 2, 1, 4,\n",
              "       3, 2, 1, 1, 2, 4, 1, 4, 3, 1, 4, 1, 4, 1, 3, 2, 2, 3, 1, 2, 1, 2,\n",
              "       3, 1, 1, 3, 4, 3, 4, 3, 1, 4, 2, 2, 1, 2, 1, 2, 4, 3, 4, 4, 4, 3,\n",
              "       3, 1, 2, 2, 1, 2, 3, 1, 4, 1, 4, 4, 4, 2, 3, 3, 2, 3, 1, 1, 2, 1,\n",
              "       4, 3, 3, 1, 4, 4, 3, 3, 2, 2, 3, 4, 1, 1, 4, 2, 3, 3, 1, 2, 3, 3,\n",
              "       2, 2, 1, 2, 3, 3, 3, 1, 1, 4, 3, 2, 2, 2, 4, 3, 1, 2, 4, 1, 1, 2,\n",
              "       3, 3, 4, 3, 4, 1, 1, 1, 3, 1, 2, 1, 4, 3, 1, 2, 2, 4, 1, 2, 1, 2,\n",
              "       2, 2, 2, 4, 1, 3, 4, 1, 1, 1, 1, 2, 1, 3, 2, 3, 2, 2, 3, 4, 2, 3,\n",
              "       1, 2, 4, 2, 2, 3, 1, 4, 2, 3, 2, 3, 3, 3, 2, 2, 1, 3, 1, 2, 4, 3,\n",
              "       1, 3, 3, 1, 1, 2, 1, 1, 3, 2, 3, 3, 4, 1, 3, 4, 2, 1, 2, 1, 1, 3,\n",
              "       2])"
            ]
          },
          "metadata": {},
          "execution_count": 30
        }
      ]
    },
    {
      "cell_type": "code",
      "metadata": {
        "colab": {
          "base_uri": "https://localhost:8080/",
          "height": 354
        },
        "id": "Sns8hseJDYH9",
        "outputId": "b48dfff2-cceb-4d50-995e-1edd05a10a0c"
      },
      "source": [
        "sns.scatterplot(Y_test, Y_pred)"
      ],
      "execution_count": null,
      "outputs": [
        {
          "output_type": "stream",
          "name": "stderr",
          "text": [
            "/usr/local/lib/python3.7/dist-packages/seaborn/_decorators.py:43: FutureWarning: Pass the following variables as keyword args: x, y. From version 0.12, the only valid positional argument will be `data`, and passing other arguments without an explicit keyword will result in an error or misinterpretation.\n",
            "  FutureWarning\n"
          ]
        },
        {
          "output_type": "execute_result",
          "data": {
            "text/plain": [
              "<matplotlib.axes._subplots.AxesSubplot at 0x7fbef1e30950>"
            ]
          },
          "metadata": {},
          "execution_count": 31
        },
        {
          "output_type": "display_data",
          "data": {
            "image/png": "[encoded data removed]",
            "text/plain": [
              "<Figure size 432x288 with 1 Axes>"
            ]
          },
          "metadata": {
            "needs_background": "light"
          }
        }
      ]
    },
    {
      "cell_type": "code",
      "metadata": {
        "colab": {
          "base_uri": "https://localhost:8080/",
          "height": 354
        },
        "id": "xnRdufILDYEF",
        "outputId": "864dee6d-557d-413d-949a-634821a978d4"
      },
      "source": [
        "sns.scatterplot(Y_test, Y_pred, marker=\"+\")"
      ],
      "execution_count": null,
      "outputs": [
        {
          "output_type": "stream",
          "name": "stderr",
          "text": [
            "/usr/local/lib/python3.7/dist-packages/seaborn/_decorators.py:43: FutureWarning: Pass the following variables as keyword args: x, y. From version 0.12, the only valid positional argument will be `data`, and passing other arguments without an explicit keyword will result in an error or misinterpretation.\n",
            "  FutureWarning\n"
          ]
        },
        {
          "output_type": "execute_result",
          "data": {
            "text/plain": [
              "<matplotlib.axes._subplots.AxesSubplot at 0x7fbef257b550>"
            ]
          },
          "metadata": {},
          "execution_count": 32
        },
        {
          "output_type": "display_data",
          "data": {
            "image/png": "[encoded data removed]",
            "text/plain": [
              "<Figure size 432x288 with 1 Axes>"
            ]
          },
          "metadata": {
            "needs_background": "light"
          }
        }
      ]
    },
    {
      "cell_type": "code",
      "metadata": {
        "colab": {
          "base_uri": "https://localhost:8080/",
          "height": 354
        },
        "id": "Rcl9MEv3DX-M",
        "outputId": "d30d2d78-842b-4427-f997-0d63c5f349c3"
      },
      "source": [
        "sns.scatterplot(Y_test, Y_pred, alpha=0.5)"
      ],
      "execution_count": null,
      "outputs": [
        {
          "output_type": "stream",
          "name": "stderr",
          "text": [
            "/usr/local/lib/python3.7/dist-packages/seaborn/_decorators.py:43: FutureWarning: Pass the following variables as keyword args: x, y. From version 0.12, the only valid positional argument will be `data`, and passing other arguments without an explicit keyword will result in an error or misinterpretation.\n",
            "  FutureWarning\n"
          ]
        },
        {
          "output_type": "execute_result",
          "data": {
            "text/plain": [
              "<matplotlib.axes._subplots.AxesSubplot at 0x7fbef05c80d0>"
            ]
          },
          "metadata": {},
          "execution_count": 33
        },
        {
          "output_type": "display_data",
          "data": {
            "image/png": "[encoded data removed]",
            "text/plain": [
              "<Figure size 432x288 with 1 Axes>"
            ]
          },
          "metadata": {
            "needs_background": "light"
          }
        }
      ]
    },
    {
      "cell_type": "markdown",
      "metadata": {
        "id": "cT4t5UZ2bx4J"
      },
      "source": [
        "### Decision Tree"
      ]
    },
    {
      "cell_type": "code",
      "metadata": {
        "id": "F8fAY_kobxQA"
      },
      "source": [
        "from sklearn import tree\n",
        "model = tree.DecisionTreeClassifier()"
      ],
      "execution_count": null,
      "outputs": []
    },
    {
      "cell_type": "code",
      "metadata": {
        "id": "3qJinPXZOdKs",
        "colab": {
          "base_uri": "https://localhost:8080/"
        },
        "outputId": "4d071c05-a4c7-4db0-e1e3-85e91020778a"
      },
      "source": [
        "model.fit(X_train, Y_train)"
      ],
      "execution_count": null,
      "outputs": [
        {
          "output_type": "execute_result",
          "data": {
            "text/plain": [
              "DecisionTreeClassifier(ccp_alpha=0.0, class_weight=None, criterion='gini',\n",
              "                       max_depth=None, max_features=None, max_leaf_nodes=None,\n",
              "                       min_impurity_decrease=0.0, min_impurity_split=None,\n",
              "                       min_samples_leaf=1, min_samples_split=2,\n",
              "                       min_weight_fraction_leaf=0.0, presort='deprecated',\n",
              "                       random_state=None, splitter='best')"
            ]
          },
          "metadata": {},
          "execution_count": 35
        }
      ]
    },
    {
      "cell_type": "code",
      "metadata": {
        "id": "bhoa76vqOc6V",
        "colab": {
          "base_uri": "https://localhost:8080/"
        },
        "outputId": "6765613a-5782-41c3-a446-b418c3a02bf7"
      },
      "source": [
        "model.score(X_test, Y_test)"
      ],
      "execution_count": null,
      "outputs": [
        {
          "output_type": "execute_result",
          "data": {
            "text/plain": [
              "0.995475113122172"
            ]
          },
          "metadata": {},
          "execution_count": 36
        }
      ]
    },
    {
      "cell_type": "code",
      "metadata": {
        "colab": {
          "base_uri": "https://localhost:8080/",
          "height": 362
        },
        "id": "DHjaYmv_M6GL",
        "outputId": "eac4eaf6-3a5f-44e5-e61b-f328b34d6e02"
      },
      "source": [
        "from sklearn.metrics import confusion_matrix\n",
        "cm = confusion_matrix(Y_pred, Y_test)\n",
        "cm"
      ],
      "execution_count": null,
      "outputs": [
        {
          "output_type": "error",
          "ename": "ValueError",
          "evalue": "ignored",
          "traceback": [
            "\u001b[0;31m---------------------------------------------------------------------------\u001b[0m",
            "\u001b[0;31mValueError\u001b[0m                                Traceback (most recent call last)",
            "\u001b[0;32m<ipython-input-76-c685d83cbdfd>\u001b[0m in \u001b[0;36m<module>\u001b[0;34m()\u001b[0m\n\u001b[1;32m      1\u001b[0m \u001b[0;32mfrom\u001b[0m \u001b[0msklearn\u001b[0m\u001b[0;34m.\u001b[0m\u001b[0mmetrics\u001b[0m \u001b[0;32mimport\u001b[0m \u001b[0mconfusion_matrix\u001b[0m\u001b[0;34m\u001b[0m\u001b[0;34m\u001b[0m\u001b[0m\n\u001b[0;32m----> 2\u001b[0;31m \u001b[0mcm\u001b[0m \u001b[0;34m=\u001b[0m \u001b[0mconfusion_matrix\u001b[0m\u001b[0;34m(\u001b[0m\u001b[0mY_pred\u001b[0m\u001b[0;34m,\u001b[0m \u001b[0mY_test\u001b[0m\u001b[0;34m)\u001b[0m\u001b[0;34m\u001b[0m\u001b[0;34m\u001b[0m\u001b[0m\n\u001b[0m\u001b[1;32m      3\u001b[0m \u001b[0mcm\u001b[0m\u001b[0;34m\u001b[0m\u001b[0;34m\u001b[0m\u001b[0m\n",
            "\u001b[0;32m/usr/local/lib/python3.7/dist-packages/sklearn/metrics/_classification.py\u001b[0m in \u001b[0;36mconfusion_matrix\u001b[0;34m(y_true, y_pred, labels, sample_weight, normalize)\u001b[0m\n\u001b[1;32m    266\u001b[0m \u001b[0;34m\u001b[0m\u001b[0m\n\u001b[1;32m    267\u001b[0m     \"\"\"\n\u001b[0;32m--> 268\u001b[0;31m     \u001b[0my_type\u001b[0m\u001b[0;34m,\u001b[0m \u001b[0my_true\u001b[0m\u001b[0;34m,\u001b[0m \u001b[0my_pred\u001b[0m \u001b[0;34m=\u001b[0m \u001b[0m_check_targets\u001b[0m\u001b[0;34m(\u001b[0m\u001b[0my_true\u001b[0m\u001b[0;34m,\u001b[0m \u001b[0my_pred\u001b[0m\u001b[0;34m)\u001b[0m\u001b[0;34m\u001b[0m\u001b[0;34m\u001b[0m\u001b[0m\n\u001b[0m\u001b[1;32m    269\u001b[0m     \u001b[0;32mif\u001b[0m \u001b[0my_type\u001b[0m \u001b[0;32mnot\u001b[0m \u001b[0;32min\u001b[0m \u001b[0;34m(\u001b[0m\u001b[0;34m\"binary\"\u001b[0m\u001b[0;34m,\u001b[0m \u001b[0;34m\"multiclass\"\u001b[0m\u001b[0;34m)\u001b[0m\u001b[0;34m:\u001b[0m\u001b[0;34m\u001b[0m\u001b[0;34m\u001b[0m\u001b[0m\n\u001b[1;32m    270\u001b[0m         \u001b[0;32mraise\u001b[0m \u001b[0mValueError\u001b[0m\u001b[0;34m(\u001b[0m\u001b[0;34m\"%s is not supported\"\u001b[0m \u001b[0;34m%\u001b[0m \u001b[0my_type\u001b[0m\u001b[0;34m)\u001b[0m\u001b[0;34m\u001b[0m\u001b[0;34m\u001b[0m\u001b[0m\n",
            "\u001b[0;32m/usr/local/lib/python3.7/dist-packages/sklearn/metrics/_classification.py\u001b[0m in \u001b[0;36m_check_targets\u001b[0;34m(y_true, y_pred)\u001b[0m\n\u001b[1;32m     88\u001b[0m     \u001b[0;32mif\u001b[0m \u001b[0mlen\u001b[0m\u001b[0;34m(\u001b[0m\u001b[0my_type\u001b[0m\u001b[0;34m)\u001b[0m \u001b[0;34m>\u001b[0m \u001b[0;36m1\u001b[0m\u001b[0;34m:\u001b[0m\u001b[0;34m\u001b[0m\u001b[0;34m\u001b[0m\u001b[0m\n\u001b[1;32m     89\u001b[0m         raise ValueError(\"Classification metrics can't handle a mix of {0} \"\n\u001b[0;32m---> 90\u001b[0;31m                          \"and {1} targets\".format(type_true, type_pred))\n\u001b[0m\u001b[1;32m     91\u001b[0m \u001b[0;34m\u001b[0m\u001b[0m\n\u001b[1;32m     92\u001b[0m     \u001b[0;31m# We can't have more than one value on y_type => The set is no more needed\u001b[0m\u001b[0;34m\u001b[0m\u001b[0;34m\u001b[0m\u001b[0;34m\u001b[0m\u001b[0m\n",
            "\u001b[0;31mValueError\u001b[0m: Classification metrics can't handle a mix of continuous and multiclass targets"
          ]
        }
      ]
    },
    {
      "cell_type": "code",
      "metadata": {
        "colab": {
          "base_uri": "https://localhost:8080/",
          "height": 460
        },
        "id": "eY5LzxVLL9mx",
        "outputId": "dff70994-8308-4cfe-a659-f206d606ab34"
      },
      "source": [
        "import seaborn as sn\n",
        "plt.figure(figsize = (10,7))\n",
        "sn.heatmap(cm, annot=True)\n",
        "plt.xlabel('Predicted')\n",
        "plt.ylabel('Truth')"
      ],
      "execution_count": null,
      "outputs": [
        {
          "output_type": "execute_result",
          "data": {
            "text/plain": [
              "Text(69.0, 0.5, 'Truth')"
            ]
          },
          "metadata": {},
          "execution_count": 75
        },
        {
          "output_type": "display_data",
          "data": {
            "image/png": "[encoded data removed]",
            "text/plain": [
              "<Figure size 720x504 with 2 Axes>"
            ]
          },
          "metadata": {
            "needs_background": "light"
          }
        }
      ]
    },
    {
      "cell_type": "markdown",
      "metadata": {
        "id": "QDo0IK2FagVd"
      },
      "source": [
        "### Logistic Regression"
      ]
    },
    {
      "cell_type": "code",
      "metadata": {
        "id": "7T-JzYW8anKS"
      },
      "source": [
        "from sklearn.linear_model import LogisticRegression\n",
        "model = LogisticRegression()"
      ],
      "execution_count": null,
      "outputs": []
    },
    {
      "cell_type": "code",
      "metadata": {
        "colab": {
          "base_uri": "https://localhost:8080/"
        },
        "id": "PFRHJMMSbEmA",
        "outputId": "6ae1cdbe-714e-4860-94c0-77018c08d9ef"
      },
      "source": [
        "model.fit(X_train, Y_train)"
      ],
      "execution_count": null,
      "outputs": [
        {
          "output_type": "stream",
          "name": "stderr",
          "text": [
            "/usr/local/lib/python3.7/dist-packages/sklearn/linear_model/_logistic.py:940: ConvergenceWarning: lbfgs failed to converge (status=1):\n",
            "STOP: TOTAL NO. of ITERATIONS REACHED LIMIT.\n",
            "\n",
            "Increase the number of iterations (max_iter) or scale the data as shown in:\n",
            "    https://scikit-learn.org/stable/modules/preprocessing.html\n",
            "Please also refer to the documentation for alternative solver options:\n",
            "    https://scikit-learn.org/stable/modules/linear_model.html#logistic-regression\n",
            "  extra_warning_msg=_LOGISTIC_SOLVER_CONVERGENCE_MSG)\n"
          ]
        },
        {
          "output_type": "execute_result",
          "data": {
            "text/plain": [
              "LogisticRegression(C=1.0, class_weight=None, dual=False, fit_intercept=True,\n",
              "                   intercept_scaling=1, l1_ratio=None, max_iter=100,\n",
              "                   multi_class='auto', n_jobs=None, penalty='l2',\n",
              "                   random_state=None, solver='lbfgs', tol=0.0001, verbose=0,\n",
              "                   warm_start=False)"
            ]
          },
          "metadata": {},
          "execution_count": 38
        }
      ]
    },
    {
      "cell_type": "code",
      "metadata": {
        "colab": {
          "base_uri": "https://localhost:8080/"
        },
        "id": "jTHw5z3NbEdS",
        "outputId": "4ca19f88-82da-4d10-e7c2-9ac89d5685c9"
      },
      "source": [
        "model.score(X_test, Y_test)"
      ],
      "execution_count": null,
      "outputs": [
        {
          "output_type": "execute_result",
          "data": {
            "text/plain": [
              "0.9638009049773756"
            ]
          },
          "metadata": {},
          "execution_count": 39
        }
      ]
    },
    {
      "cell_type": "code",
      "metadata": {
        "id": "0iI6z9hkbEVh"
      },
      "source": [
        "import seaborn as sn"
      ],
      "execution_count": null,
      "outputs": []
    },
    {
      "cell_type": "code",
      "metadata": {
        "id": "q2uOOwH2chH4"
      },
      "source": [
        "Y_predicts = model.predict(X_test)"
      ],
      "execution_count": null,
      "outputs": []
    },
    {
      "cell_type": "code",
      "metadata": {
        "colab": {
          "base_uri": "https://localhost:8080/",
          "height": 354
        },
        "id": "X9AblPLAbEMW",
        "outputId": "7268a337-cec0-4854-d76c-8549a105e941"
      },
      "source": [
        "sns.scatterplot(Y_test, Y_predicts)"
      ],
      "execution_count": null,
      "outputs": [
        {
          "output_type": "stream",
          "name": "stderr",
          "text": [
            "/usr/local/lib/python3.7/dist-packages/seaborn/_decorators.py:43: FutureWarning: Pass the following variables as keyword args: x, y. From version 0.12, the only valid positional argument will be `data`, and passing other arguments without an explicit keyword will result in an error or misinterpretation.\n",
            "  FutureWarning\n"
          ]
        },
        {
          "output_type": "execute_result",
          "data": {
            "text/plain": [
              "<matplotlib.axes._subplots.AxesSubplot at 0x7fbeeebbdd10>"
            ]
          },
          "metadata": {},
          "execution_count": 42
        },
        {
          "output_type": "display_data",
          "data": {
            "image/png": "[encoded data removed]",
            "text/plain": [
              "<Figure size 432x288 with 1 Axes>"
            ]
          },
          "metadata": {
            "needs_background": "light"
          }
        }
      ]
    },
    {
      "cell_type": "code",
      "metadata": {
        "colab": {
          "base_uri": "https://localhost:8080/"
        },
        "id": "d5TVWOOYbEFX",
        "outputId": "d7106f60-2dff-44d4-c7ac-6dad9ba87ad7"
      },
      "source": [
        "from sklearn.metrics import confusion_matrix\n",
        "cm = confusion_matrix(Y_test, Y_predicts)\n",
        "cm"
      ],
      "execution_count": null,
      "outputs": [
        {
          "output_type": "execute_result",
          "data": {
            "text/plain": [
              "array([[58,  0,  1,  4],\n",
              "       [ 0, 61,  0,  0],\n",
              "       [ 1,  0, 56,  1],\n",
              "       [ 0,  0,  1, 38]])"
            ]
          },
          "metadata": {},
          "execution_count": 43
        }
      ]
    },
    {
      "cell_type": "code",
      "metadata": {
        "colab": {
          "base_uri": "https://localhost:8080/",
          "height": 460
        },
        "id": "tp4tK_0Mfu8k",
        "outputId": "d4738143-38d2-41b4-a4b4-b27b3b105f21"
      },
      "source": [
        "import seaborn as sn\n",
        "plt.figure(figsize = (10,7))\n",
        "sn.heatmap(cm, annot=True)\n",
        "plt.xlabel('Predicted')\n",
        "plt.ylabel('Truth')"
      ],
      "execution_count": null,
      "outputs": [
        {
          "output_type": "execute_result",
          "data": {
            "text/plain": [
              "Text(69.0, 0.5, 'Truth')"
            ]
          },
          "metadata": {},
          "execution_count": 44
        },
        {
          "output_type": "display_data",
          "data": {
            "image/png": "[encoded data removed]",
            "text/plain": [
              "<Figure size 720x504 with 2 Axes>"
            ]
          },
          "metadata": {
            "needs_background": "light"
          }
        }
      ]
    },
    {
      "cell_type": "markdown",
      "metadata": {
        "id": "SwiDgVoo4v0m"
      },
      "source": [
        "### Support Vector Machine (SVM)\n",
        "\n",
        "\n"
      ]
    },
    {
      "cell_type": "code",
      "metadata": {
        "id": "T7maZxvCf3pS"
      },
      "source": [
        "from sklearn.svm import SVC\n",
        "model = SVC()"
      ],
      "execution_count": null,
      "outputs": []
    },
    {
      "cell_type": "code",
      "metadata": {
        "colab": {
          "base_uri": "https://localhost:8080/"
        },
        "id": "l4_kCf6x5QVC",
        "outputId": "d9e88d1f-1bf9-434d-c1f5-8c8d60fd7069"
      },
      "source": [
        "model.fit(X_train, Y_train)"
      ],
      "execution_count": null,
      "outputs": [
        {
          "output_type": "execute_result",
          "data": {
            "text/plain": [
              "SVC(C=1.0, break_ties=False, cache_size=200, class_weight=None, coef0=0.0,\n",
              "    decision_function_shape='ovr', degree=3, gamma='scale', kernel='rbf',\n",
              "    max_iter=-1, probability=False, random_state=None, shrinking=True,\n",
              "    tol=0.001, verbose=False)"
            ]
          },
          "metadata": {},
          "execution_count": 46
        }
      ]
    },
    {
      "cell_type": "code",
      "metadata": {
        "colab": {
          "base_uri": "https://localhost:8080/"
        },
        "id": "AVsVK3k55WlD",
        "outputId": "87ac11b2-60d0-4237-ab22-4e527cb5f4d7"
      },
      "source": [
        "model.score(X_test, Y_test)"
      ],
      "execution_count": null,
      "outputs": [
        {
          "output_type": "execute_result",
          "data": {
            "text/plain": [
              "0.751131221719457"
            ]
          },
          "metadata": {},
          "execution_count": 47
        }
      ]
    },
    {
      "cell_type": "code",
      "metadata": {
        "colab": {
          "base_uri": "https://localhost:8080/"
        },
        "id": "uyGY3fmo5dF8",
        "outputId": "37cb8dd3-2f83-480d-f7b4-0a70ef66f5d9"
      },
      "source": [
        "model.predict"
      ],
      "execution_count": null,
      "outputs": [
        {
          "output_type": "execute_result",
          "data": {
            "text/plain": [
              "<bound method BaseSVC.predict of SVC(C=1.0, break_ties=False, cache_size=200, class_weight=None, coef0=0.0,\n",
              "    decision_function_shape='ovr', degree=3, gamma='scale', kernel='rbf',\n",
              "    max_iter=-1, probability=False, random_state=None, shrinking=True,\n",
              "    tol=0.001, verbose=False)>"
            ]
          },
          "metadata": {},
          "execution_count": 48
        }
      ]
    },
    {
      "cell_type": "code",
      "metadata": {
        "id": "JfwcwbCQE7ZP"
      },
      "source": [
        "Y_predict = model.predict(X_test)"
      ],
      "execution_count": null,
      "outputs": []
    },
    {
      "cell_type": "code",
      "metadata": {
        "colab": {
          "base_uri": "https://localhost:8080/",
          "height": 354
        },
        "id": "Z4xbdAjDEZst",
        "outputId": "ac6476a1-37b0-433a-eb69-3b731db368ff"
      },
      "source": [
        "sns.scatterplot(Y_test, Y_predict)"
      ],
      "execution_count": null,
      "outputs": [
        {
          "output_type": "stream",
          "name": "stderr",
          "text": [
            "/usr/local/lib/python3.7/dist-packages/seaborn/_decorators.py:43: FutureWarning: Pass the following variables as keyword args: x, y. From version 0.12, the only valid positional argument will be `data`, and passing other arguments without an explicit keyword will result in an error or misinterpretation.\n",
            "  FutureWarning\n"
          ]
        },
        {
          "output_type": "execute_result",
          "data": {
            "text/plain": [
              "<matplotlib.axes._subplots.AxesSubplot at 0x7fbeeea3a650>"
            ]
          },
          "metadata": {},
          "execution_count": 50
        },
        {
          "output_type": "display_data",
          "data": {
            "image/png": "[encoded data removed]",
            "text/plain": [
              "<Figure size 432x288 with 1 Axes>"
            ]
          },
          "metadata": {
            "needs_background": "light"
          }
        }
      ]
    },
    {
      "cell_type": "code",
      "metadata": {
        "colab": {
          "base_uri": "https://localhost:8080/"
        },
        "id": "j3KRLeCHMoME",
        "outputId": "ae563250-e7cb-4157-88a7-74a6490556e3"
      },
      "source": [
        "from sklearn.metrics import confusion_matrix\n",
        "cm = confusion_matrix(Y_test, Y_predict)\n",
        "cm"
      ],
      "execution_count": null,
      "outputs": [
        {
          "output_type": "execute_result",
          "data": {
            "text/plain": [
              "array([[23,  0,  0, 40],\n",
              "       [ 1, 60,  0,  0],\n",
              "       [ 5,  0, 49,  4],\n",
              "       [ 5,  0,  0, 34]])"
            ]
          },
          "metadata": {},
          "execution_count": 58
        }
      ]
    },
    {
      "cell_type": "code",
      "metadata": {
        "colab": {
          "base_uri": "https://localhost:8080/",
          "height": 464
        },
        "id": "1yAe-s1hMrDN",
        "outputId": "86a27304-2f98-4d50-aa36-983b5b628ff2"
      },
      "source": [
        "import seaborn as sn\n",
        "plt.figure(figsize = (10,7))\n",
        "sn.heatmap(cm, annot=True)\n",
        "plt.xlabel('Predict')\n",
        "plt.ylabel('Truth')"
      ],
      "execution_count": null,
      "outputs": [
        {
          "output_type": "execute_result",
          "data": {
            "text/plain": [
              "Text(69.0, 0.5, 'Truth')"
            ]
          },
          "metadata": {},
          "execution_count": 59
        },
        {
          "output_type": "display_data",
          "data": {
            "image/png": "[encoded data removed]",
            "text/plain": [
              "<Figure size 720x504 with 2 Axes>"
            ]
          },
          "metadata": {
            "needs_background": "light"
          }
        }
      ]
    },
    {
      "cell_type": "markdown",
      "metadata": {
        "id": "YrYPzz2M5iBo"
      },
      "source": [
        "# Tune parameter"
      ]
    },
    {
      "cell_type": "markdown",
      "metadata": {
        "id": "qTYgROJH6J2b"
      },
      "source": [
        "Regularization"
      ]
    },
    {
      "cell_type": "code",
      "metadata": {
        "colab": {
          "base_uri": "https://localhost:8080/"
        },
        "id": "AA8AQQWs5hOb",
        "outputId": "32475c9e-a137-4591-b480-0d1a19867b90"
      },
      "source": [
        "model_C = SVC(C=1)\n",
        "model_C.fit(X_train, Y_train)\n",
        "model_C.score(X_test, Y_test)"
      ],
      "execution_count": null,
      "outputs": [
        {
          "output_type": "execute_result",
          "data": {
            "text/plain": [
              "0.751131221719457"
            ]
          },
          "metadata": {},
          "execution_count": 51
        }
      ]
    },
    {
      "cell_type": "code",
      "metadata": {
        "colab": {
          "base_uri": "https://localhost:8080/"
        },
        "id": "ZcBAwNkh5qKw",
        "outputId": "8dd1f01e-8449-4bd2-a1a5-a42b3bd7b8f2"
      },
      "source": [
        "model_C = SVC(C=10)\n",
        "model_C.fit(X_train, Y_train)\n",
        "model_C.score(X_test, Y_test)"
      ],
      "execution_count": null,
      "outputs": [
        {
          "output_type": "execute_result",
          "data": {
            "text/plain": [
              "0.8642533936651584"
            ]
          },
          "metadata": {},
          "execution_count": 52
        }
      ]
    },
    {
      "cell_type": "markdown",
      "metadata": {
        "id": "TonDMo8R6TQC"
      },
      "source": [
        "Gamma"
      ]
    },
    {
      "cell_type": "code",
      "metadata": {
        "colab": {
          "base_uri": "https://localhost:8080/"
        },
        "id": "kXHMWWop5vlZ",
        "outputId": "50891825-84b2-4bf6-e56a-42d3058f3e95"
      },
      "source": [
        "model_g = SVC(gamma=10)\n",
        "model_g.fit(X_train, Y_train)\n",
        "model_g.score(X_test, Y_test)"
      ],
      "execution_count": null,
      "outputs": [
        {
          "output_type": "execute_result",
          "data": {
            "text/plain": [
              "0.26244343891402716"
            ]
          },
          "metadata": {},
          "execution_count": 53
        }
      ]
    },
    {
      "cell_type": "markdown",
      "metadata": {
        "id": "aBPN4cab6XG_"
      },
      "source": [
        "Kernel"
      ]
    },
    {
      "cell_type": "code",
      "metadata": {
        "colab": {
          "base_uri": "https://localhost:8080/"
        },
        "id": "HyoQ7eqn56ur",
        "outputId": "89098857-1d43-4a61-aace-01de1368bbbc"
      },
      "source": [
        "model_linear_kernal = SVC(kernel='linear')\n",
        "model_linear_kernal.fit(X_train, Y_train)"
      ],
      "execution_count": null,
      "outputs": [
        {
          "output_type": "execute_result",
          "data": {
            "text/plain": [
              "SVC(C=1.0, break_ties=False, cache_size=200, class_weight=None, coef0=0.0,\n",
              "    decision_function_shape='ovr', degree=3, gamma='scale', kernel='linear',\n",
              "    max_iter=-1, probability=False, random_state=None, shrinking=True,\n",
              "    tol=0.001, verbose=False)"
            ]
          },
          "metadata": {},
          "execution_count": 54
        }
      ]
    },
    {
      "cell_type": "code",
      "metadata": {
        "colab": {
          "base_uri": "https://localhost:8080/"
        },
        "id": "4ojCfWUi5-R5",
        "outputId": "bacc5d42-cec3-4758-9618-40cb90e8c783"
      },
      "source": [
        "model_linear_kernal.score(X_test, Y_test)"
      ],
      "execution_count": null,
      "outputs": [
        {
          "output_type": "execute_result",
          "data": {
            "text/plain": [
              "0.9909502262443439"
            ]
          },
          "metadata": {},
          "execution_count": 55
        }
      ]
    },
    {
      "cell_type": "code",
      "metadata": {
        "colab": {
          "base_uri": "https://localhost:8080/",
          "height": 354
        },
        "id": "jT24Ly9JGKiN",
        "outputId": "908467f5-96ba-4d01-c2c2-5c84d4be01d7"
      },
      "source": [
        "sns.scatterplot(Y_test, Y_predict)"
      ],
      "execution_count": null,
      "outputs": [
        {
          "output_type": "stream",
          "name": "stderr",
          "text": [
            "/usr/local/lib/python3.7/dist-packages/seaborn/_decorators.py:43: FutureWarning: Pass the following variables as keyword args: x, y. From version 0.12, the only valid positional argument will be `data`, and passing other arguments without an explicit keyword will result in an error or misinterpretation.\n",
            "  FutureWarning\n"
          ]
        },
        {
          "output_type": "execute_result",
          "data": {
            "text/plain": [
              "<matplotlib.axes._subplots.AxesSubplot at 0x7fbeee9aa190>"
            ]
          },
          "metadata": {},
          "execution_count": 56
        },
        {
          "output_type": "display_data",
          "data": {
            "image/png": "[encoded data removed]",
            "text/plain": [
              "<Figure size 432x288 with 1 Axes>"
            ]
          },
          "metadata": {
            "needs_background": "light"
          }
        }
      ]
    }
  ]
}